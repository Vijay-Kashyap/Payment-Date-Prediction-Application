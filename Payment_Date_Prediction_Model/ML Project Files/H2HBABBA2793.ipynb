{
  "nbformat": 4,
  "nbformat_minor": 0,
  "metadata": {
    "colab": {
      "name": "H2HBABBA2793.ipynb",
      "provenance": [],
      "collapsed_sections": []
    },
    "kernelspec": {
      "name": "python3",
      "display_name": "Python 3"
    },
    "language_info": {
      "name": "python"
    }
  },
  "cells": [
    {
      "cell_type": "code",
      "metadata": {
        "id": "bHfn8o6VxEp3"
      },
      "source": [
        "import pandas as pd\n",
        "import numpy as np\n",
        "import matplotlib.pyplot as plt\n",
        "import seaborn as sns\n",
        "import sklearn\n",
        "%matplotlib inline\n",
        "import warnings\n",
        "warnings.filterwarnings(\"ignore\")\n",
        "pd. set_option('display.max_columns', 300)\n",
        "pd. set_option('display.max_rows', 300)"
      ],
      "execution_count": null,
      "outputs": []
    },
    {
      "cell_type": "code",
      "metadata": {
        "colab": {
          "resources": {
            "http://localhost:8080/nbextensions/google.colab/files.js": {
              "data": "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",
              "ok": true,
              "headers": [
                [
                  "content-type",
                  "application/javascript"
                ]
              ],
              "status": 200,
              "status_text": ""
            }
          },
          "base_uri": "https://localhost:8080/",
          "height": 72
        },
        "id": "r4xEaJNkyRWW",
        "outputId": "33e44128-e806-4364-8a50-e3c317e0df1c"
      },
      "source": [
        "from google.colab import files\n",
        "uploaded = files.upload()"
      ],
      "execution_count": null,
      "outputs": [
        {
          "output_type": "display_data",
          "data": {
            "text/html": [
              "\n",
              "     <input type=\"file\" id=\"files-d6f77816-937c-44a7-8a62-0d2d2d24c083\" name=\"files[]\" multiple disabled\n",
              "        style=\"border:none\" />\n",
              "     <output id=\"result-d6f77816-937c-44a7-8a62-0d2d2d24c083\">\n",
              "      Upload widget is only available when the cell has been executed in the\n",
              "      current browser session. Please rerun this cell to enable.\n",
              "      </output>\n",
              "      <script src=\"/nbextensions/google.colab/files.js\"></script> "
            ],
            "text/plain": [
              "<IPython.core.display.HTML object>"
            ]
          },
          "metadata": {
            "tags": []
          }
        },
        {
          "output_type": "stream",
          "text": [
            "Saving H2HBABBA2793.csv to H2HBABBA2793.csv\n"
          ],
          "name": "stdout"
        }
      ]
    },
    {
      "cell_type": "code",
      "metadata": {
        "colab": {
          "base_uri": "https://localhost:8080/",
          "height": 326
        },
        "id": "Z0yjtlVKy03w",
        "outputId": "c8e7fa8e-a3b8-4d47-9658-e77e651eea8c"
      },
      "source": [
        "df = pd.read_csv('H2HBABBA2793.csv')\n",
        "df.head()"
      ],
      "execution_count": null,
      "outputs": [
        {
          "output_type": "execute_result",
          "data": {
            "text/html": [
              "<div>\n",
              "<style scoped>\n",
              "    .dataframe tbody tr th:only-of-type {\n",
              "        vertical-align: middle;\n",
              "    }\n",
              "\n",
              "    .dataframe tbody tr th {\n",
              "        vertical-align: top;\n",
              "    }\n",
              "\n",
              "    .dataframe thead th {\n",
              "        text-align: right;\n",
              "    }\n",
              "</style>\n",
              "<table border=\"1\" class=\"dataframe\">\n",
              "  <thead>\n",
              "    <tr style=\"text-align: right;\">\n",
              "      <th></th>\n",
              "      <th>business_code</th>\n",
              "      <th>cust_number</th>\n",
              "      <th>name_customer</th>\n",
              "      <th>clear_date</th>\n",
              "      <th>buisness_year</th>\n",
              "      <th>doc_id</th>\n",
              "      <th>posting_date</th>\n",
              "      <th>document_create_date</th>\n",
              "      <th>document_create_date.1</th>\n",
              "      <th>due_in_date</th>\n",
              "      <th>invoice_currency</th>\n",
              "      <th>document type</th>\n",
              "      <th>posting_id</th>\n",
              "      <th>area_business</th>\n",
              "      <th>total_open_amount</th>\n",
              "      <th>baseline_create_date</th>\n",
              "      <th>cust_payment_terms</th>\n",
              "      <th>invoice_id</th>\n",
              "      <th>isOpen</th>\n",
              "    </tr>\n",
              "  </thead>\n",
              "  <tbody>\n",
              "    <tr>\n",
              "      <th>0</th>\n",
              "      <td>U001</td>\n",
              "      <td>200186937</td>\n",
              "      <td>SYSC llc</td>\n",
              "      <td>22-01-2019 00:00</td>\n",
              "      <td>2019</td>\n",
              "      <td>1928564442</td>\n",
              "      <td>03-01-2019</td>\n",
              "      <td>20190103</td>\n",
              "      <td>20190103</td>\n",
              "      <td>20190118</td>\n",
              "      <td>USD</td>\n",
              "      <td>RV</td>\n",
              "      <td>1</td>\n",
              "      <td>NaN</td>\n",
              "      <td>5020.64</td>\n",
              "      <td>20190103</td>\n",
              "      <td>NAA8</td>\n",
              "      <td>1.928564e+09</td>\n",
              "      <td>0</td>\n",
              "    </tr>\n",
              "    <tr>\n",
              "      <th>1</th>\n",
              "      <td>U001</td>\n",
              "      <td>200769623</td>\n",
              "      <td>WAL-MAR in</td>\n",
              "      <td>28-08-2019 00:00</td>\n",
              "      <td>2019</td>\n",
              "      <td>1929732150</td>\n",
              "      <td>11-08-2019</td>\n",
              "      <td>20190810</td>\n",
              "      <td>20190811</td>\n",
              "      <td>20190826</td>\n",
              "      <td>USD</td>\n",
              "      <td>RV</td>\n",
              "      <td>1</td>\n",
              "      <td>NaN</td>\n",
              "      <td>7684.78</td>\n",
              "      <td>20190811</td>\n",
              "      <td>NAH4</td>\n",
              "      <td>1.929732e+09</td>\n",
              "      <td>0</td>\n",
              "    </tr>\n",
              "    <tr>\n",
              "      <th>2</th>\n",
              "      <td>U001</td>\n",
              "      <td>200769623</td>\n",
              "      <td>WAL-MAR llc</td>\n",
              "      <td>09-07-2019 00:00</td>\n",
              "      <td>2019</td>\n",
              "      <td>1929553996</td>\n",
              "      <td>29-06-2019</td>\n",
              "      <td>20190628</td>\n",
              "      <td>20190629</td>\n",
              "      <td>20190714</td>\n",
              "      <td>USD</td>\n",
              "      <td>RV</td>\n",
              "      <td>1</td>\n",
              "      <td>NaN</td>\n",
              "      <td>12320.17</td>\n",
              "      <td>20190629</td>\n",
              "      <td>NAH4</td>\n",
              "      <td>1.929554e+09</td>\n",
              "      <td>0</td>\n",
              "    </tr>\n",
              "    <tr>\n",
              "      <th>3</th>\n",
              "      <td>U001</td>\n",
              "      <td>200416837</td>\n",
              "      <td>DEC llc</td>\n",
              "      <td>02-12-2019 00:00</td>\n",
              "      <td>2019</td>\n",
              "      <td>1930183649</td>\n",
              "      <td>22-11-2019</td>\n",
              "      <td>20191122</td>\n",
              "      <td>20191122</td>\n",
              "      <td>20191209</td>\n",
              "      <td>USD</td>\n",
              "      <td>RV</td>\n",
              "      <td>1</td>\n",
              "      <td>NaN</td>\n",
              "      <td>196.08</td>\n",
              "      <td>20191116</td>\n",
              "      <td>NAM4</td>\n",
              "      <td>1.930184e+09</td>\n",
              "      <td>0</td>\n",
              "    </tr>\n",
              "    <tr>\n",
              "      <th>4</th>\n",
              "      <td>U001</td>\n",
              "      <td>200769623</td>\n",
              "      <td>WAL-MAR us</td>\n",
              "      <td>18-02-2020 00:00</td>\n",
              "      <td>2020</td>\n",
              "      <td>1930459207</td>\n",
              "      <td>30-01-2020</td>\n",
              "      <td>20200130</td>\n",
              "      <td>20200130</td>\n",
              "      <td>20200214</td>\n",
              "      <td>USD</td>\n",
              "      <td>RV</td>\n",
              "      <td>1</td>\n",
              "      <td>NaN</td>\n",
              "      <td>51605.46</td>\n",
              "      <td>20200130</td>\n",
              "      <td>NAH4</td>\n",
              "      <td>1.930459e+09</td>\n",
              "      <td>0</td>\n",
              "    </tr>\n",
              "  </tbody>\n",
              "</table>\n",
              "</div>"
            ],
            "text/plain": [
              "  business_code cust_number name_customer        clear_date  buisness_year  \\\n",
              "0          U001   200186937      SYSC llc  22-01-2019 00:00           2019   \n",
              "1          U001   200769623    WAL-MAR in  28-08-2019 00:00           2019   \n",
              "2          U001   200769623   WAL-MAR llc  09-07-2019 00:00           2019   \n",
              "3          U001   200416837       DEC llc  02-12-2019 00:00           2019   \n",
              "4          U001   200769623    WAL-MAR us  18-02-2020 00:00           2020   \n",
              "\n",
              "       doc_id posting_date  document_create_date  document_create_date.1  \\\n",
              "0  1928564442   03-01-2019              20190103                20190103   \n",
              "1  1929732150   11-08-2019              20190810                20190811   \n",
              "2  1929553996   29-06-2019              20190628                20190629   \n",
              "3  1930183649   22-11-2019              20191122                20191122   \n",
              "4  1930459207   30-01-2020              20200130                20200130   \n",
              "\n",
              "   due_in_date invoice_currency document type  posting_id  area_business  \\\n",
              "0     20190118              USD            RV           1            NaN   \n",
              "1     20190826              USD            RV           1            NaN   \n",
              "2     20190714              USD            RV           1            NaN   \n",
              "3     20191209              USD            RV           1            NaN   \n",
              "4     20200214              USD            RV           1            NaN   \n",
              "\n",
              "   total_open_amount  baseline_create_date cust_payment_terms    invoice_id  \\\n",
              "0            5020.64              20190103               NAA8  1.928564e+09   \n",
              "1            7684.78              20190811               NAH4  1.929732e+09   \n",
              "2           12320.17              20190629               NAH4  1.929554e+09   \n",
              "3             196.08              20191116               NAM4  1.930184e+09   \n",
              "4           51605.46              20200130               NAH4  1.930459e+09   \n",
              "\n",
              "   isOpen  \n",
              "0       0  \n",
              "1       0  \n",
              "2       0  \n",
              "3       0  \n",
              "4       0  "
            ]
          },
          "metadata": {
            "tags": []
          },
          "execution_count": 81
        }
      ]
    },
    {
      "cell_type": "code",
      "metadata": {
        "colab": {
          "base_uri": "https://localhost:8080/"
        },
        "id": "CJTmXvgwy82C",
        "outputId": "3a78b35f-6261-4d2b-d660-4608de72afa5"
      },
      "source": [
        "df.shape"
      ],
      "execution_count": null,
      "outputs": [
        {
          "output_type": "execute_result",
          "data": {
            "text/plain": [
              "(50000, 19)"
            ]
          },
          "metadata": {
            "tags": []
          },
          "execution_count": 82
        }
      ]
    },
    {
      "cell_type": "code",
      "metadata": {
        "colab": {
          "base_uri": "https://localhost:8080/",
          "height": 292
        },
        "id": "XxHc_laVzAy6",
        "outputId": "53cf3d52-0fc1-43e3-fbfd-18f0bb0a275a"
      },
      "source": [
        "df.tail()"
      ],
      "execution_count": null,
      "outputs": [
        {
          "output_type": "execute_result",
          "data": {
            "text/html": [
              "<div>\n",
              "<style scoped>\n",
              "    .dataframe tbody tr th:only-of-type {\n",
              "        vertical-align: middle;\n",
              "    }\n",
              "\n",
              "    .dataframe tbody tr th {\n",
              "        vertical-align: top;\n",
              "    }\n",
              "\n",
              "    .dataframe thead th {\n",
              "        text-align: right;\n",
              "    }\n",
              "</style>\n",
              "<table border=\"1\" class=\"dataframe\">\n",
              "  <thead>\n",
              "    <tr style=\"text-align: right;\">\n",
              "      <th></th>\n",
              "      <th>business_code</th>\n",
              "      <th>cust_number</th>\n",
              "      <th>name_customer</th>\n",
              "      <th>clear_date</th>\n",
              "      <th>buisness_year</th>\n",
              "      <th>doc_id</th>\n",
              "      <th>posting_date</th>\n",
              "      <th>document_create_date</th>\n",
              "      <th>document_create_date.1</th>\n",
              "      <th>due_in_date</th>\n",
              "      <th>invoice_currency</th>\n",
              "      <th>document type</th>\n",
              "      <th>posting_id</th>\n",
              "      <th>area_business</th>\n",
              "      <th>total_open_amount</th>\n",
              "      <th>baseline_create_date</th>\n",
              "      <th>cust_payment_terms</th>\n",
              "      <th>invoice_id</th>\n",
              "      <th>isOpen</th>\n",
              "    </tr>\n",
              "  </thead>\n",
              "  <tbody>\n",
              "    <tr>\n",
              "      <th>49995</th>\n",
              "      <td>U001</td>\n",
              "      <td>200769623</td>\n",
              "      <td>WAL-MAR systems</td>\n",
              "      <td>03-09-2019 00:00</td>\n",
              "      <td>2019</td>\n",
              "      <td>1929771735</td>\n",
              "      <td>22-08-2019</td>\n",
              "      <td>20190821</td>\n",
              "      <td>20190822</td>\n",
              "      <td>20190906</td>\n",
              "      <td>USD</td>\n",
              "      <td>RV</td>\n",
              "      <td>1</td>\n",
              "      <td>NaN</td>\n",
              "      <td>8949.70</td>\n",
              "      <td>20190822</td>\n",
              "      <td>NAH4</td>\n",
              "      <td>1.929772e+09</td>\n",
              "      <td>0</td>\n",
              "    </tr>\n",
              "    <tr>\n",
              "      <th>49996</th>\n",
              "      <td>U001</td>\n",
              "      <td>200769623</td>\n",
              "      <td>WAL-MAR llc</td>\n",
              "      <td>NaN</td>\n",
              "      <td>2020</td>\n",
              "      <td>1930739025</td>\n",
              "      <td>04-04-2020</td>\n",
              "      <td>20200403</td>\n",
              "      <td>20200404</td>\n",
              "      <td>20200419</td>\n",
              "      <td>USD</td>\n",
              "      <td>RV</td>\n",
              "      <td>1</td>\n",
              "      <td>NaN</td>\n",
              "      <td>15524.31</td>\n",
              "      <td>20200404</td>\n",
              "      <td>NAH4</td>\n",
              "      <td>1.930739e+09</td>\n",
              "      <td>1</td>\n",
              "    </tr>\n",
              "    <tr>\n",
              "      <th>49997</th>\n",
              "      <td>CA02</td>\n",
              "      <td>140104472</td>\n",
              "      <td>MARTIN corporation</td>\n",
              "      <td>30-10-2019 00:00</td>\n",
              "      <td>2019</td>\n",
              "      <td>2960584672</td>\n",
              "      <td>06-10-2019</td>\n",
              "      <td>20191007</td>\n",
              "      <td>20191006</td>\n",
              "      <td>20191025</td>\n",
              "      <td>CAD</td>\n",
              "      <td>RV</td>\n",
              "      <td>1</td>\n",
              "      <td>NaN</td>\n",
              "      <td>5981.76</td>\n",
              "      <td>20191015</td>\n",
              "      <td>CA10</td>\n",
              "      <td>2.960585e+09</td>\n",
              "      <td>0</td>\n",
              "    </tr>\n",
              "    <tr>\n",
              "      <th>49998</th>\n",
              "      <td>U001</td>\n",
              "      <td>200763814</td>\n",
              "      <td>SYSCO F trust</td>\n",
              "      <td>22-04-2019 00:00</td>\n",
              "      <td>2019</td>\n",
              "      <td>1929089180</td>\n",
              "      <td>04-04-2019</td>\n",
              "      <td>20190405</td>\n",
              "      <td>20190404</td>\n",
              "      <td>20190419</td>\n",
              "      <td>USD</td>\n",
              "      <td>RV</td>\n",
              "      <td>1</td>\n",
              "      <td>NaN</td>\n",
              "      <td>31876.59</td>\n",
              "      <td>20190404</td>\n",
              "      <td>NAA8</td>\n",
              "      <td>1.929089e+09</td>\n",
              "      <td>0</td>\n",
              "    </tr>\n",
              "    <tr>\n",
              "      <th>49999</th>\n",
              "      <td>U001</td>\n",
              "      <td>200762301</td>\n",
              "      <td>C&amp;S WH us</td>\n",
              "      <td>NaN</td>\n",
              "      <td>2020</td>\n",
              "      <td>1930661109</td>\n",
              "      <td>18-03-2020</td>\n",
              "      <td>20200317</td>\n",
              "      <td>20200318</td>\n",
              "      <td>20200402</td>\n",
              "      <td>USD</td>\n",
              "      <td>RV</td>\n",
              "      <td>1</td>\n",
              "      <td>NaN</td>\n",
              "      <td>92927.18</td>\n",
              "      <td>20200318</td>\n",
              "      <td>NAC6</td>\n",
              "      <td>1.930661e+09</td>\n",
              "      <td>1</td>\n",
              "    </tr>\n",
              "  </tbody>\n",
              "</table>\n",
              "</div>"
            ],
            "text/plain": [
              "      business_code cust_number       name_customer        clear_date  \\\n",
              "49995          U001   200769623     WAL-MAR systems  03-09-2019 00:00   \n",
              "49996          U001   200769623         WAL-MAR llc               NaN   \n",
              "49997          CA02   140104472  MARTIN corporation  30-10-2019 00:00   \n",
              "49998          U001   200763814       SYSCO F trust  22-04-2019 00:00   \n",
              "49999          U001   200762301           C&S WH us               NaN   \n",
              "\n",
              "       buisness_year      doc_id posting_date  document_create_date  \\\n",
              "49995           2019  1929771735   22-08-2019              20190821   \n",
              "49996           2020  1930739025   04-04-2020              20200403   \n",
              "49997           2019  2960584672   06-10-2019              20191007   \n",
              "49998           2019  1929089180   04-04-2019              20190405   \n",
              "49999           2020  1930661109   18-03-2020              20200317   \n",
              "\n",
              "       document_create_date.1  due_in_date invoice_currency document type  \\\n",
              "49995                20190822     20190906              USD            RV   \n",
              "49996                20200404     20200419              USD            RV   \n",
              "49997                20191006     20191025              CAD            RV   \n",
              "49998                20190404     20190419              USD            RV   \n",
              "49999                20200318     20200402              USD            RV   \n",
              "\n",
              "       posting_id  area_business  total_open_amount  baseline_create_date  \\\n",
              "49995           1            NaN            8949.70              20190822   \n",
              "49996           1            NaN           15524.31              20200404   \n",
              "49997           1            NaN            5981.76              20191015   \n",
              "49998           1            NaN           31876.59              20190404   \n",
              "49999           1            NaN           92927.18              20200318   \n",
              "\n",
              "      cust_payment_terms    invoice_id  isOpen  \n",
              "49995               NAH4  1.929772e+09       0  \n",
              "49996               NAH4  1.930739e+09       1  \n",
              "49997               CA10  2.960585e+09       0  \n",
              "49998               NAA8  1.929089e+09       0  \n",
              "49999               NAC6  1.930661e+09       1  "
            ]
          },
          "metadata": {
            "tags": []
          },
          "execution_count": 83
        }
      ]
    },
    {
      "cell_type": "code",
      "metadata": {
        "colab": {
          "base_uri": "https://localhost:8080/",
          "height": 204
        },
        "id": "879D65DOz7n-",
        "outputId": "7fb70320-b97b-472b-9039-ef57d74c205c"
      },
      "source": [
        "df.drop(['business_code','buisness_year','doc_id','cust_payment_terms','area_business','document_create_date.1','document type','baseline_create_date','posting_id'],axis=1,inplace=True)\n",
        "df.head()"
      ],
      "execution_count": null,
      "outputs": [
        {
          "output_type": "execute_result",
          "data": {
            "text/html": [
              "<div>\n",
              "<style scoped>\n",
              "    .dataframe tbody tr th:only-of-type {\n",
              "        vertical-align: middle;\n",
              "    }\n",
              "\n",
              "    .dataframe tbody tr th {\n",
              "        vertical-align: top;\n",
              "    }\n",
              "\n",
              "    .dataframe thead th {\n",
              "        text-align: right;\n",
              "    }\n",
              "</style>\n",
              "<table border=\"1\" class=\"dataframe\">\n",
              "  <thead>\n",
              "    <tr style=\"text-align: right;\">\n",
              "      <th></th>\n",
              "      <th>cust_number</th>\n",
              "      <th>name_customer</th>\n",
              "      <th>clear_date</th>\n",
              "      <th>posting_date</th>\n",
              "      <th>document_create_date</th>\n",
              "      <th>due_in_date</th>\n",
              "      <th>invoice_currency</th>\n",
              "      <th>total_open_amount</th>\n",
              "      <th>invoice_id</th>\n",
              "      <th>isOpen</th>\n",
              "    </tr>\n",
              "  </thead>\n",
              "  <tbody>\n",
              "    <tr>\n",
              "      <th>0</th>\n",
              "      <td>200186937</td>\n",
              "      <td>SYSC llc</td>\n",
              "      <td>22-01-2019 00:00</td>\n",
              "      <td>03-01-2019</td>\n",
              "      <td>20190103</td>\n",
              "      <td>20190118</td>\n",
              "      <td>USD</td>\n",
              "      <td>5020.64</td>\n",
              "      <td>1.928564e+09</td>\n",
              "      <td>0</td>\n",
              "    </tr>\n",
              "    <tr>\n",
              "      <th>1</th>\n",
              "      <td>200769623</td>\n",
              "      <td>WAL-MAR in</td>\n",
              "      <td>28-08-2019 00:00</td>\n",
              "      <td>11-08-2019</td>\n",
              "      <td>20190810</td>\n",
              "      <td>20190826</td>\n",
              "      <td>USD</td>\n",
              "      <td>7684.78</td>\n",
              "      <td>1.929732e+09</td>\n",
              "      <td>0</td>\n",
              "    </tr>\n",
              "    <tr>\n",
              "      <th>2</th>\n",
              "      <td>200769623</td>\n",
              "      <td>WAL-MAR llc</td>\n",
              "      <td>09-07-2019 00:00</td>\n",
              "      <td>29-06-2019</td>\n",
              "      <td>20190628</td>\n",
              "      <td>20190714</td>\n",
              "      <td>USD</td>\n",
              "      <td>12320.17</td>\n",
              "      <td>1.929554e+09</td>\n",
              "      <td>0</td>\n",
              "    </tr>\n",
              "    <tr>\n",
              "      <th>3</th>\n",
              "      <td>200416837</td>\n",
              "      <td>DEC llc</td>\n",
              "      <td>02-12-2019 00:00</td>\n",
              "      <td>22-11-2019</td>\n",
              "      <td>20191122</td>\n",
              "      <td>20191209</td>\n",
              "      <td>USD</td>\n",
              "      <td>196.08</td>\n",
              "      <td>1.930184e+09</td>\n",
              "      <td>0</td>\n",
              "    </tr>\n",
              "    <tr>\n",
              "      <th>4</th>\n",
              "      <td>200769623</td>\n",
              "      <td>WAL-MAR us</td>\n",
              "      <td>18-02-2020 00:00</td>\n",
              "      <td>30-01-2020</td>\n",
              "      <td>20200130</td>\n",
              "      <td>20200214</td>\n",
              "      <td>USD</td>\n",
              "      <td>51605.46</td>\n",
              "      <td>1.930459e+09</td>\n",
              "      <td>0</td>\n",
              "    </tr>\n",
              "  </tbody>\n",
              "</table>\n",
              "</div>"
            ],
            "text/plain": [
              "  cust_number name_customer        clear_date posting_date  \\\n",
              "0   200186937      SYSC llc  22-01-2019 00:00   03-01-2019   \n",
              "1   200769623    WAL-MAR in  28-08-2019 00:00   11-08-2019   \n",
              "2   200769623   WAL-MAR llc  09-07-2019 00:00   29-06-2019   \n",
              "3   200416837       DEC llc  02-12-2019 00:00   22-11-2019   \n",
              "4   200769623    WAL-MAR us  18-02-2020 00:00   30-01-2020   \n",
              "\n",
              "   document_create_date  due_in_date invoice_currency  total_open_amount  \\\n",
              "0              20190103     20190118              USD            5020.64   \n",
              "1              20190810     20190826              USD            7684.78   \n",
              "2              20190628     20190714              USD           12320.17   \n",
              "3              20191122     20191209              USD             196.08   \n",
              "4              20200130     20200214              USD           51605.46   \n",
              "\n",
              "     invoice_id  isOpen  \n",
              "0  1.928564e+09       0  \n",
              "1  1.929732e+09       0  \n",
              "2  1.929554e+09       0  \n",
              "3  1.930184e+09       0  \n",
              "4  1.930459e+09       0  "
            ]
          },
          "metadata": {
            "tags": []
          },
          "execution_count": 84
        }
      ]
    },
    {
      "cell_type": "code",
      "metadata": {
        "colab": {
          "base_uri": "https://localhost:8080/"
        },
        "id": "rTmc0JAQ1lft",
        "outputId": "e48dddd9-03a7-4c82-96b0-0637aef49e17"
      },
      "source": [
        "df.isnull().sum()"
      ],
      "execution_count": null,
      "outputs": [
        {
          "output_type": "execute_result",
          "data": {
            "text/plain": [
              "cust_number                 0\n",
              "name_customer               0\n",
              "clear_date              10000\n",
              "posting_date                0\n",
              "document_create_date        0\n",
              "due_in_date                 0\n",
              "invoice_currency            0\n",
              "total_open_amount           0\n",
              "invoice_id                  4\n",
              "isOpen                      0\n",
              "dtype: int64"
            ]
          },
          "metadata": {
            "tags": []
          },
          "execution_count": 85
        }
      ]
    },
    {
      "cell_type": "code",
      "metadata": {
        "colab": {
          "base_uri": "https://localhost:8080/",
          "height": 173
        },
        "id": "NahslC5T1wde",
        "outputId": "efaf1aa7-07da-4ba1-c6e1-da352a1f0369"
      },
      "source": [
        "df[df['invoice_id'].isnull()]"
      ],
      "execution_count": null,
      "outputs": [
        {
          "output_type": "execute_result",
          "data": {
            "text/html": [
              "<div>\n",
              "<style scoped>\n",
              "    .dataframe tbody tr th:only-of-type {\n",
              "        vertical-align: middle;\n",
              "    }\n",
              "\n",
              "    .dataframe tbody tr th {\n",
              "        vertical-align: top;\n",
              "    }\n",
              "\n",
              "    .dataframe thead th {\n",
              "        text-align: right;\n",
              "    }\n",
              "</style>\n",
              "<table border=\"1\" class=\"dataframe\">\n",
              "  <thead>\n",
              "    <tr style=\"text-align: right;\">\n",
              "      <th></th>\n",
              "      <th>cust_number</th>\n",
              "      <th>name_customer</th>\n",
              "      <th>clear_date</th>\n",
              "      <th>posting_date</th>\n",
              "      <th>document_create_date</th>\n",
              "      <th>due_in_date</th>\n",
              "      <th>invoice_currency</th>\n",
              "      <th>total_open_amount</th>\n",
              "      <th>invoice_id</th>\n",
              "      <th>isOpen</th>\n",
              "    </tr>\n",
              "  </thead>\n",
              "  <tbody>\n",
              "    <tr>\n",
              "      <th>10069</th>\n",
              "      <td>140104409</td>\n",
              "      <td>LOB</td>\n",
              "      <td>08-05-2019 00:00</td>\n",
              "      <td>29-03-2019</td>\n",
              "      <td>20190329</td>\n",
              "      <td>20190215</td>\n",
              "      <td>CAD</td>\n",
              "      <td>2635.2</td>\n",
              "      <td>NaN</td>\n",
              "      <td>0</td>\n",
              "    </tr>\n",
              "    <tr>\n",
              "      <th>11529</th>\n",
              "      <td>100054173</td>\n",
              "      <td>DIA corporation</td>\n",
              "      <td>31-05-2019 00:00</td>\n",
              "      <td>29-03-2019</td>\n",
              "      <td>20190329</td>\n",
              "      <td>20190121</td>\n",
              "      <td>CAD</td>\n",
              "      <td>2040.0</td>\n",
              "      <td>NaN</td>\n",
              "      <td>0</td>\n",
              "    </tr>\n",
              "    <tr>\n",
              "      <th>23237</th>\n",
              "      <td>100054173</td>\n",
              "      <td>DIA corporation</td>\n",
              "      <td>14-05-2019 00:00</td>\n",
              "      <td>29-03-2019</td>\n",
              "      <td>20190329</td>\n",
              "      <td>20190113</td>\n",
              "      <td>CAD</td>\n",
              "      <td>3900.0</td>\n",
              "      <td>NaN</td>\n",
              "      <td>0</td>\n",
              "    </tr>\n",
              "    <tr>\n",
              "      <th>31835</th>\n",
              "      <td>100054351</td>\n",
              "      <td>UNF corp</td>\n",
              "      <td>02-05-2019 00:00</td>\n",
              "      <td>29-03-2019</td>\n",
              "      <td>20190329</td>\n",
              "      <td>20190324</td>\n",
              "      <td>CAD</td>\n",
              "      <td>5964.0</td>\n",
              "      <td>NaN</td>\n",
              "      <td>0</td>\n",
              "    </tr>\n",
              "  </tbody>\n",
              "</table>\n",
              "</div>"
            ],
            "text/plain": [
              "      cust_number    name_customer        clear_date posting_date  \\\n",
              "10069   140104409             LOB   08-05-2019 00:00   29-03-2019   \n",
              "11529   100054173  DIA corporation  31-05-2019 00:00   29-03-2019   \n",
              "23237   100054173  DIA corporation  14-05-2019 00:00   29-03-2019   \n",
              "31835   100054351         UNF corp  02-05-2019 00:00   29-03-2019   \n",
              "\n",
              "       document_create_date  due_in_date invoice_currency  total_open_amount  \\\n",
              "10069              20190329     20190215              CAD             2635.2   \n",
              "11529              20190329     20190121              CAD             2040.0   \n",
              "23237              20190329     20190113              CAD             3900.0   \n",
              "31835              20190329     20190324              CAD             5964.0   \n",
              "\n",
              "       invoice_id  isOpen  \n",
              "10069         NaN       0  \n",
              "11529         NaN       0  \n",
              "23237         NaN       0  \n",
              "31835         NaN       0  "
            ]
          },
          "metadata": {
            "tags": []
          },
          "execution_count": 86
        }
      ]
    },
    {
      "cell_type": "code",
      "metadata": {
        "colab": {
          "base_uri": "https://localhost:8080/"
        },
        "id": "7x4lreyp1ye8",
        "outputId": "aee60904-bb52-40b6-bb5a-d075e274dbde"
      },
      "source": [
        "#for dropping the null rows using invoice id\n",
        "df.drop([10069,11529,23237,31835],axis=0,inplace=True)\n",
        "df.shape"
      ],
      "execution_count": null,
      "outputs": [
        {
          "output_type": "execute_result",
          "data": {
            "text/plain": [
              "(49996, 10)"
            ]
          },
          "metadata": {
            "tags": []
          },
          "execution_count": 87
        }
      ]
    },
    {
      "cell_type": "code",
      "metadata": {
        "colab": {
          "base_uri": "https://localhost:8080/",
          "height": 419
        },
        "id": "6FeU3E862EnA",
        "outputId": "301bf29c-42e4-41a5-d2e4-d27cdcdf581e"
      },
      "source": [
        "df.drop_duplicates(keep=\"first\",inplace=True)\n",
        "df"
      ],
      "execution_count": null,
      "outputs": [
        {
          "output_type": "execute_result",
          "data": {
            "text/html": [
              "<div>\n",
              "<style scoped>\n",
              "    .dataframe tbody tr th:only-of-type {\n",
              "        vertical-align: middle;\n",
              "    }\n",
              "\n",
              "    .dataframe tbody tr th {\n",
              "        vertical-align: top;\n",
              "    }\n",
              "\n",
              "    .dataframe thead th {\n",
              "        text-align: right;\n",
              "    }\n",
              "</style>\n",
              "<table border=\"1\" class=\"dataframe\">\n",
              "  <thead>\n",
              "    <tr style=\"text-align: right;\">\n",
              "      <th></th>\n",
              "      <th>cust_number</th>\n",
              "      <th>name_customer</th>\n",
              "      <th>clear_date</th>\n",
              "      <th>posting_date</th>\n",
              "      <th>document_create_date</th>\n",
              "      <th>due_in_date</th>\n",
              "      <th>invoice_currency</th>\n",
              "      <th>total_open_amount</th>\n",
              "      <th>invoice_id</th>\n",
              "      <th>isOpen</th>\n",
              "    </tr>\n",
              "  </thead>\n",
              "  <tbody>\n",
              "    <tr>\n",
              "      <th>0</th>\n",
              "      <td>200186937</td>\n",
              "      <td>SYSC llc</td>\n",
              "      <td>22-01-2019 00:00</td>\n",
              "      <td>03-01-2019</td>\n",
              "      <td>20190103</td>\n",
              "      <td>20190118</td>\n",
              "      <td>USD</td>\n",
              "      <td>5020.64</td>\n",
              "      <td>1.928564e+09</td>\n",
              "      <td>0</td>\n",
              "    </tr>\n",
              "    <tr>\n",
              "      <th>1</th>\n",
              "      <td>200769623</td>\n",
              "      <td>WAL-MAR in</td>\n",
              "      <td>28-08-2019 00:00</td>\n",
              "      <td>11-08-2019</td>\n",
              "      <td>20190810</td>\n",
              "      <td>20190826</td>\n",
              "      <td>USD</td>\n",
              "      <td>7684.78</td>\n",
              "      <td>1.929732e+09</td>\n",
              "      <td>0</td>\n",
              "    </tr>\n",
              "    <tr>\n",
              "      <th>2</th>\n",
              "      <td>200769623</td>\n",
              "      <td>WAL-MAR llc</td>\n",
              "      <td>09-07-2019 00:00</td>\n",
              "      <td>29-06-2019</td>\n",
              "      <td>20190628</td>\n",
              "      <td>20190714</td>\n",
              "      <td>USD</td>\n",
              "      <td>12320.17</td>\n",
              "      <td>1.929554e+09</td>\n",
              "      <td>0</td>\n",
              "    </tr>\n",
              "    <tr>\n",
              "      <th>3</th>\n",
              "      <td>200416837</td>\n",
              "      <td>DEC llc</td>\n",
              "      <td>02-12-2019 00:00</td>\n",
              "      <td>22-11-2019</td>\n",
              "      <td>20191122</td>\n",
              "      <td>20191209</td>\n",
              "      <td>USD</td>\n",
              "      <td>196.08</td>\n",
              "      <td>1.930184e+09</td>\n",
              "      <td>0</td>\n",
              "    </tr>\n",
              "    <tr>\n",
              "      <th>4</th>\n",
              "      <td>200769623</td>\n",
              "      <td>WAL-MAR us</td>\n",
              "      <td>18-02-2020 00:00</td>\n",
              "      <td>30-01-2020</td>\n",
              "      <td>20200130</td>\n",
              "      <td>20200214</td>\n",
              "      <td>USD</td>\n",
              "      <td>51605.46</td>\n",
              "      <td>1.930459e+09</td>\n",
              "      <td>0</td>\n",
              "    </tr>\n",
              "    <tr>\n",
              "      <th>...</th>\n",
              "      <td>...</td>\n",
              "      <td>...</td>\n",
              "      <td>...</td>\n",
              "      <td>...</td>\n",
              "      <td>...</td>\n",
              "      <td>...</td>\n",
              "      <td>...</td>\n",
              "      <td>...</td>\n",
              "      <td>...</td>\n",
              "      <td>...</td>\n",
              "    </tr>\n",
              "    <tr>\n",
              "      <th>49995</th>\n",
              "      <td>200769623</td>\n",
              "      <td>WAL-MAR systems</td>\n",
              "      <td>03-09-2019 00:00</td>\n",
              "      <td>22-08-2019</td>\n",
              "      <td>20190821</td>\n",
              "      <td>20190906</td>\n",
              "      <td>USD</td>\n",
              "      <td>8949.70</td>\n",
              "      <td>1.929772e+09</td>\n",
              "      <td>0</td>\n",
              "    </tr>\n",
              "    <tr>\n",
              "      <th>49996</th>\n",
              "      <td>200769623</td>\n",
              "      <td>WAL-MAR llc</td>\n",
              "      <td>NaN</td>\n",
              "      <td>04-04-2020</td>\n",
              "      <td>20200403</td>\n",
              "      <td>20200419</td>\n",
              "      <td>USD</td>\n",
              "      <td>15524.31</td>\n",
              "      <td>1.930739e+09</td>\n",
              "      <td>1</td>\n",
              "    </tr>\n",
              "    <tr>\n",
              "      <th>49997</th>\n",
              "      <td>140104472</td>\n",
              "      <td>MARTIN corporation</td>\n",
              "      <td>30-10-2019 00:00</td>\n",
              "      <td>06-10-2019</td>\n",
              "      <td>20191007</td>\n",
              "      <td>20191025</td>\n",
              "      <td>CAD</td>\n",
              "      <td>5981.76</td>\n",
              "      <td>2.960585e+09</td>\n",
              "      <td>0</td>\n",
              "    </tr>\n",
              "    <tr>\n",
              "      <th>49998</th>\n",
              "      <td>200763814</td>\n",
              "      <td>SYSCO F trust</td>\n",
              "      <td>22-04-2019 00:00</td>\n",
              "      <td>04-04-2019</td>\n",
              "      <td>20190405</td>\n",
              "      <td>20190419</td>\n",
              "      <td>USD</td>\n",
              "      <td>31876.59</td>\n",
              "      <td>1.929089e+09</td>\n",
              "      <td>0</td>\n",
              "    </tr>\n",
              "    <tr>\n",
              "      <th>49999</th>\n",
              "      <td>200762301</td>\n",
              "      <td>C&amp;S WH us</td>\n",
              "      <td>NaN</td>\n",
              "      <td>18-03-2020</td>\n",
              "      <td>20200317</td>\n",
              "      <td>20200402</td>\n",
              "      <td>USD</td>\n",
              "      <td>92927.18</td>\n",
              "      <td>1.930661e+09</td>\n",
              "      <td>1</td>\n",
              "    </tr>\n",
              "  </tbody>\n",
              "</table>\n",
              "<p>48830 rows × 10 columns</p>\n",
              "</div>"
            ],
            "text/plain": [
              "      cust_number       name_customer        clear_date posting_date  \\\n",
              "0       200186937            SYSC llc  22-01-2019 00:00   03-01-2019   \n",
              "1       200769623          WAL-MAR in  28-08-2019 00:00   11-08-2019   \n",
              "2       200769623         WAL-MAR llc  09-07-2019 00:00   29-06-2019   \n",
              "3       200416837             DEC llc  02-12-2019 00:00   22-11-2019   \n",
              "4       200769623          WAL-MAR us  18-02-2020 00:00   30-01-2020   \n",
              "...           ...                 ...               ...          ...   \n",
              "49995   200769623     WAL-MAR systems  03-09-2019 00:00   22-08-2019   \n",
              "49996   200769623         WAL-MAR llc               NaN   04-04-2020   \n",
              "49997   140104472  MARTIN corporation  30-10-2019 00:00   06-10-2019   \n",
              "49998   200763814       SYSCO F trust  22-04-2019 00:00   04-04-2019   \n",
              "49999   200762301           C&S WH us               NaN   18-03-2020   \n",
              "\n",
              "       document_create_date  due_in_date invoice_currency  total_open_amount  \\\n",
              "0                  20190103     20190118              USD            5020.64   \n",
              "1                  20190810     20190826              USD            7684.78   \n",
              "2                  20190628     20190714              USD           12320.17   \n",
              "3                  20191122     20191209              USD             196.08   \n",
              "4                  20200130     20200214              USD           51605.46   \n",
              "...                     ...          ...              ...                ...   \n",
              "49995              20190821     20190906              USD            8949.70   \n",
              "49996              20200403     20200419              USD           15524.31   \n",
              "49997              20191007     20191025              CAD            5981.76   \n",
              "49998              20190405     20190419              USD           31876.59   \n",
              "49999              20200317     20200402              USD           92927.18   \n",
              "\n",
              "         invoice_id  isOpen  \n",
              "0      1.928564e+09       0  \n",
              "1      1.929732e+09       0  \n",
              "2      1.929554e+09       0  \n",
              "3      1.930184e+09       0  \n",
              "4      1.930459e+09       0  \n",
              "...             ...     ...  \n",
              "49995  1.929772e+09       0  \n",
              "49996  1.930739e+09       1  \n",
              "49997  2.960585e+09       0  \n",
              "49998  1.929089e+09       0  \n",
              "49999  1.930661e+09       1  \n",
              "\n",
              "[48830 rows x 10 columns]"
            ]
          },
          "metadata": {
            "tags": []
          },
          "execution_count": 88
        }
      ]
    },
    {
      "cell_type": "code",
      "metadata": {
        "colab": {
          "base_uri": "https://localhost:8080/"
        },
        "id": "H_33E1Sy2RfJ",
        "outputId": "2d4bdfe5-c5e7-47a4-8ab4-8f83bb7eb6c3"
      },
      "source": [
        "df.isnull().sum()"
      ],
      "execution_count": null,
      "outputs": [
        {
          "output_type": "execute_result",
          "data": {
            "text/plain": [
              "cust_number                0\n",
              "name_customer              0\n",
              "clear_date              9685\n",
              "posting_date               0\n",
              "document_create_date       0\n",
              "due_in_date                0\n",
              "invoice_currency           0\n",
              "total_open_amount          0\n",
              "invoice_id                 0\n",
              "isOpen                     0\n",
              "dtype: int64"
            ]
          },
          "metadata": {
            "tags": []
          },
          "execution_count": 89
        }
      ]
    },
    {
      "cell_type": "code",
      "metadata": {
        "colab": {
          "base_uri": "https://localhost:8080/"
        },
        "id": "HsE6Uqsr2cQo",
        "outputId": "541d520c-800c-4153-e891-7ecb060aa581"
      },
      "source": [
        "df['clear_date']=pd.to_datetime(df.clear_date)\n",
        "df.info()"
      ],
      "execution_count": null,
      "outputs": [
        {
          "output_type": "stream",
          "text": [
            "<class 'pandas.core.frame.DataFrame'>\n",
            "Int64Index: 48830 entries, 0 to 49999\n",
            "Data columns (total 10 columns):\n",
            " #   Column                Non-Null Count  Dtype         \n",
            "---  ------                --------------  -----         \n",
            " 0   cust_number           48830 non-null  object        \n",
            " 1   name_customer         48830 non-null  object        \n",
            " 2   clear_date            39145 non-null  datetime64[ns]\n",
            " 3   posting_date          48830 non-null  object        \n",
            " 4   document_create_date  48830 non-null  int64         \n",
            " 5   due_in_date           48830 non-null  int64         \n",
            " 6   invoice_currency      48830 non-null  object        \n",
            " 7   total_open_amount     48830 non-null  float64       \n",
            " 8   invoice_id            48830 non-null  float64       \n",
            " 9   isOpen                48830 non-null  int64         \n",
            "dtypes: datetime64[ns](1), float64(2), int64(3), object(4)\n",
            "memory usage: 4.1+ MB\n"
          ],
          "name": "stdout"
        }
      ]
    },
    {
      "cell_type": "code",
      "metadata": {
        "colab": {
          "base_uri": "https://localhost:8080/",
          "height": 204
        },
        "id": "ugmzmv022rRj",
        "outputId": "48762f8d-6275-4e94-f771-bf6b618aed80"
      },
      "source": [
        "df['due_in_date'] = pd.to_datetime(df['due_in_date'], format='%Y%m%d')\n",
        "df.head()"
      ],
      "execution_count": null,
      "outputs": [
        {
          "output_type": "execute_result",
          "data": {
            "text/html": [
              "<div>\n",
              "<style scoped>\n",
              "    .dataframe tbody tr th:only-of-type {\n",
              "        vertical-align: middle;\n",
              "    }\n",
              "\n",
              "    .dataframe tbody tr th {\n",
              "        vertical-align: top;\n",
              "    }\n",
              "\n",
              "    .dataframe thead th {\n",
              "        text-align: right;\n",
              "    }\n",
              "</style>\n",
              "<table border=\"1\" class=\"dataframe\">\n",
              "  <thead>\n",
              "    <tr style=\"text-align: right;\">\n",
              "      <th></th>\n",
              "      <th>cust_number</th>\n",
              "      <th>name_customer</th>\n",
              "      <th>clear_date</th>\n",
              "      <th>posting_date</th>\n",
              "      <th>document_create_date</th>\n",
              "      <th>due_in_date</th>\n",
              "      <th>invoice_currency</th>\n",
              "      <th>total_open_amount</th>\n",
              "      <th>invoice_id</th>\n",
              "      <th>isOpen</th>\n",
              "    </tr>\n",
              "  </thead>\n",
              "  <tbody>\n",
              "    <tr>\n",
              "      <th>0</th>\n",
              "      <td>200186937</td>\n",
              "      <td>SYSC llc</td>\n",
              "      <td>2019-01-22</td>\n",
              "      <td>03-01-2019</td>\n",
              "      <td>20190103</td>\n",
              "      <td>2019-01-18</td>\n",
              "      <td>USD</td>\n",
              "      <td>5020.64</td>\n",
              "      <td>1.928564e+09</td>\n",
              "      <td>0</td>\n",
              "    </tr>\n",
              "    <tr>\n",
              "      <th>1</th>\n",
              "      <td>200769623</td>\n",
              "      <td>WAL-MAR in</td>\n",
              "      <td>2019-08-28</td>\n",
              "      <td>11-08-2019</td>\n",
              "      <td>20190810</td>\n",
              "      <td>2019-08-26</td>\n",
              "      <td>USD</td>\n",
              "      <td>7684.78</td>\n",
              "      <td>1.929732e+09</td>\n",
              "      <td>0</td>\n",
              "    </tr>\n",
              "    <tr>\n",
              "      <th>2</th>\n",
              "      <td>200769623</td>\n",
              "      <td>WAL-MAR llc</td>\n",
              "      <td>2019-09-07</td>\n",
              "      <td>29-06-2019</td>\n",
              "      <td>20190628</td>\n",
              "      <td>2019-07-14</td>\n",
              "      <td>USD</td>\n",
              "      <td>12320.17</td>\n",
              "      <td>1.929554e+09</td>\n",
              "      <td>0</td>\n",
              "    </tr>\n",
              "    <tr>\n",
              "      <th>3</th>\n",
              "      <td>200416837</td>\n",
              "      <td>DEC llc</td>\n",
              "      <td>2019-02-12</td>\n",
              "      <td>22-11-2019</td>\n",
              "      <td>20191122</td>\n",
              "      <td>2019-12-09</td>\n",
              "      <td>USD</td>\n",
              "      <td>196.08</td>\n",
              "      <td>1.930184e+09</td>\n",
              "      <td>0</td>\n",
              "    </tr>\n",
              "    <tr>\n",
              "      <th>4</th>\n",
              "      <td>200769623</td>\n",
              "      <td>WAL-MAR us</td>\n",
              "      <td>2020-02-18</td>\n",
              "      <td>30-01-2020</td>\n",
              "      <td>20200130</td>\n",
              "      <td>2020-02-14</td>\n",
              "      <td>USD</td>\n",
              "      <td>51605.46</td>\n",
              "      <td>1.930459e+09</td>\n",
              "      <td>0</td>\n",
              "    </tr>\n",
              "  </tbody>\n",
              "</table>\n",
              "</div>"
            ],
            "text/plain": [
              "  cust_number name_customer clear_date posting_date  document_create_date  \\\n",
              "0   200186937      SYSC llc 2019-01-22   03-01-2019              20190103   \n",
              "1   200769623    WAL-MAR in 2019-08-28   11-08-2019              20190810   \n",
              "2   200769623   WAL-MAR llc 2019-09-07   29-06-2019              20190628   \n",
              "3   200416837       DEC llc 2019-02-12   22-11-2019              20191122   \n",
              "4   200769623    WAL-MAR us 2020-02-18   30-01-2020              20200130   \n",
              "\n",
              "  due_in_date invoice_currency  total_open_amount    invoice_id  isOpen  \n",
              "0  2019-01-18              USD            5020.64  1.928564e+09       0  \n",
              "1  2019-08-26              USD            7684.78  1.929732e+09       0  \n",
              "2  2019-07-14              USD           12320.17  1.929554e+09       0  \n",
              "3  2019-12-09              USD             196.08  1.930184e+09       0  \n",
              "4  2020-02-14              USD           51605.46  1.930459e+09       0  "
            ]
          },
          "metadata": {
            "tags": []
          },
          "execution_count": 91
        }
      ]
    },
    {
      "cell_type": "code",
      "metadata": {
        "colab": {
          "base_uri": "https://localhost:8080/",
          "height": 204
        },
        "id": "LxmWXxmy3frm",
        "outputId": "70ca3d5e-be86-4633-e3c5-532cf113ba09"
      },
      "source": [
        "df['document_create_date'] = pd.to_datetime(df['document_create_date'], format='%Y%m%d')\n",
        "df.head()"
      ],
      "execution_count": null,
      "outputs": [
        {
          "output_type": "execute_result",
          "data": {
            "text/html": [
              "<div>\n",
              "<style scoped>\n",
              "    .dataframe tbody tr th:only-of-type {\n",
              "        vertical-align: middle;\n",
              "    }\n",
              "\n",
              "    .dataframe tbody tr th {\n",
              "        vertical-align: top;\n",
              "    }\n",
              "\n",
              "    .dataframe thead th {\n",
              "        text-align: right;\n",
              "    }\n",
              "</style>\n",
              "<table border=\"1\" class=\"dataframe\">\n",
              "  <thead>\n",
              "    <tr style=\"text-align: right;\">\n",
              "      <th></th>\n",
              "      <th>cust_number</th>\n",
              "      <th>name_customer</th>\n",
              "      <th>clear_date</th>\n",
              "      <th>posting_date</th>\n",
              "      <th>document_create_date</th>\n",
              "      <th>due_in_date</th>\n",
              "      <th>invoice_currency</th>\n",
              "      <th>total_open_amount</th>\n",
              "      <th>invoice_id</th>\n",
              "      <th>isOpen</th>\n",
              "    </tr>\n",
              "  </thead>\n",
              "  <tbody>\n",
              "    <tr>\n",
              "      <th>0</th>\n",
              "      <td>200186937</td>\n",
              "      <td>SYSC llc</td>\n",
              "      <td>2019-01-22</td>\n",
              "      <td>03-01-2019</td>\n",
              "      <td>2019-01-03</td>\n",
              "      <td>2019-01-18</td>\n",
              "      <td>USD</td>\n",
              "      <td>5020.64</td>\n",
              "      <td>1.928564e+09</td>\n",
              "      <td>0</td>\n",
              "    </tr>\n",
              "    <tr>\n",
              "      <th>1</th>\n",
              "      <td>200769623</td>\n",
              "      <td>WAL-MAR in</td>\n",
              "      <td>2019-08-28</td>\n",
              "      <td>11-08-2019</td>\n",
              "      <td>2019-08-10</td>\n",
              "      <td>2019-08-26</td>\n",
              "      <td>USD</td>\n",
              "      <td>7684.78</td>\n",
              "      <td>1.929732e+09</td>\n",
              "      <td>0</td>\n",
              "    </tr>\n",
              "    <tr>\n",
              "      <th>2</th>\n",
              "      <td>200769623</td>\n",
              "      <td>WAL-MAR llc</td>\n",
              "      <td>2019-09-07</td>\n",
              "      <td>29-06-2019</td>\n",
              "      <td>2019-06-28</td>\n",
              "      <td>2019-07-14</td>\n",
              "      <td>USD</td>\n",
              "      <td>12320.17</td>\n",
              "      <td>1.929554e+09</td>\n",
              "      <td>0</td>\n",
              "    </tr>\n",
              "    <tr>\n",
              "      <th>3</th>\n",
              "      <td>200416837</td>\n",
              "      <td>DEC llc</td>\n",
              "      <td>2019-02-12</td>\n",
              "      <td>22-11-2019</td>\n",
              "      <td>2019-11-22</td>\n",
              "      <td>2019-12-09</td>\n",
              "      <td>USD</td>\n",
              "      <td>196.08</td>\n",
              "      <td>1.930184e+09</td>\n",
              "      <td>0</td>\n",
              "    </tr>\n",
              "    <tr>\n",
              "      <th>4</th>\n",
              "      <td>200769623</td>\n",
              "      <td>WAL-MAR us</td>\n",
              "      <td>2020-02-18</td>\n",
              "      <td>30-01-2020</td>\n",
              "      <td>2020-01-30</td>\n",
              "      <td>2020-02-14</td>\n",
              "      <td>USD</td>\n",
              "      <td>51605.46</td>\n",
              "      <td>1.930459e+09</td>\n",
              "      <td>0</td>\n",
              "    </tr>\n",
              "  </tbody>\n",
              "</table>\n",
              "</div>"
            ],
            "text/plain": [
              "  cust_number name_customer clear_date posting_date document_create_date  \\\n",
              "0   200186937      SYSC llc 2019-01-22   03-01-2019           2019-01-03   \n",
              "1   200769623    WAL-MAR in 2019-08-28   11-08-2019           2019-08-10   \n",
              "2   200769623   WAL-MAR llc 2019-09-07   29-06-2019           2019-06-28   \n",
              "3   200416837       DEC llc 2019-02-12   22-11-2019           2019-11-22   \n",
              "4   200769623    WAL-MAR us 2020-02-18   30-01-2020           2020-01-30   \n",
              "\n",
              "  due_in_date invoice_currency  total_open_amount    invoice_id  isOpen  \n",
              "0  2019-01-18              USD            5020.64  1.928564e+09       0  \n",
              "1  2019-08-26              USD            7684.78  1.929732e+09       0  \n",
              "2  2019-07-14              USD           12320.17  1.929554e+09       0  \n",
              "3  2019-12-09              USD             196.08  1.930184e+09       0  \n",
              "4  2020-02-14              USD           51605.46  1.930459e+09       0  "
            ]
          },
          "metadata": {
            "tags": []
          },
          "execution_count": 92
        }
      ]
    },
    {
      "cell_type": "code",
      "metadata": {
        "colab": {
          "base_uri": "https://localhost:8080/"
        },
        "id": "4gvhA_ki3lTs",
        "outputId": "fd046eca-2225-46f0-fac5-83255127d753"
      },
      "source": [
        "df['posting_date']=pd.to_datetime(df.posting_date)\n",
        "df.info()"
      ],
      "execution_count": null,
      "outputs": [
        {
          "output_type": "stream",
          "text": [
            "<class 'pandas.core.frame.DataFrame'>\n",
            "Int64Index: 48830 entries, 0 to 49999\n",
            "Data columns (total 10 columns):\n",
            " #   Column                Non-Null Count  Dtype         \n",
            "---  ------                --------------  -----         \n",
            " 0   cust_number           48830 non-null  object        \n",
            " 1   name_customer         48830 non-null  object        \n",
            " 2   clear_date            39145 non-null  datetime64[ns]\n",
            " 3   posting_date          48830 non-null  datetime64[ns]\n",
            " 4   document_create_date  48830 non-null  datetime64[ns]\n",
            " 5   due_in_date           48830 non-null  datetime64[ns]\n",
            " 6   invoice_currency      48830 non-null  object        \n",
            " 7   total_open_amount     48830 non-null  float64       \n",
            " 8   invoice_id            48830 non-null  float64       \n",
            " 9   isOpen                48830 non-null  int64         \n",
            "dtypes: datetime64[ns](4), float64(2), int64(1), object(3)\n",
            "memory usage: 4.1+ MB\n"
          ],
          "name": "stdout"
        }
      ]
    },
    {
      "cell_type": "code",
      "metadata": {
        "id": "hD5lTC4C4LbP"
      },
      "source": [
        "main_train = df[df.clear_date.isnull() == False]\n",
        "main_test = df[df.clear_date.isnull() == True]"
      ],
      "execution_count": null,
      "outputs": []
    },
    {
      "cell_type": "code",
      "metadata": {
        "colab": {
          "base_uri": "https://localhost:8080/"
        },
        "id": "sfzjXaWd4ZiX",
        "outputId": "a06d363d-850a-40ae-eb4f-f6fb0e85b11d"
      },
      "source": [
        "main_train.shape, main_test.shape"
      ],
      "execution_count": null,
      "outputs": [
        {
          "output_type": "execute_result",
          "data": {
            "text/plain": [
              "((39145, 10), (9685, 10))"
            ]
          },
          "metadata": {
            "tags": []
          },
          "execution_count": 95
        }
      ]
    },
    {
      "cell_type": "code",
      "metadata": {
        "colab": {
          "base_uri": "https://localhost:8080/",
          "height": 204
        },
        "id": "m8YyTt1O4mcp",
        "outputId": "fabdfd12-10c4-4a6b-8fd3-c23a3023360c"
      },
      "source": [
        "main_train['Delay'] = main_train['clear_date'] - main_train['due_in_date']\n",
        "main_train.head()"
      ],
      "execution_count": null,
      "outputs": [
        {
          "output_type": "execute_result",
          "data": {
            "text/html": [
              "<div>\n",
              "<style scoped>\n",
              "    .dataframe tbody tr th:only-of-type {\n",
              "        vertical-align: middle;\n",
              "    }\n",
              "\n",
              "    .dataframe tbody tr th {\n",
              "        vertical-align: top;\n",
              "    }\n",
              "\n",
              "    .dataframe thead th {\n",
              "        text-align: right;\n",
              "    }\n",
              "</style>\n",
              "<table border=\"1\" class=\"dataframe\">\n",
              "  <thead>\n",
              "    <tr style=\"text-align: right;\">\n",
              "      <th></th>\n",
              "      <th>cust_number</th>\n",
              "      <th>name_customer</th>\n",
              "      <th>clear_date</th>\n",
              "      <th>posting_date</th>\n",
              "      <th>document_create_date</th>\n",
              "      <th>due_in_date</th>\n",
              "      <th>invoice_currency</th>\n",
              "      <th>total_open_amount</th>\n",
              "      <th>invoice_id</th>\n",
              "      <th>isOpen</th>\n",
              "      <th>Delay</th>\n",
              "    </tr>\n",
              "  </thead>\n",
              "  <tbody>\n",
              "    <tr>\n",
              "      <th>0</th>\n",
              "      <td>200186937</td>\n",
              "      <td>SYSC llc</td>\n",
              "      <td>2019-01-22</td>\n",
              "      <td>2019-03-01</td>\n",
              "      <td>2019-01-03</td>\n",
              "      <td>2019-01-18</td>\n",
              "      <td>USD</td>\n",
              "      <td>5020.64</td>\n",
              "      <td>1.928564e+09</td>\n",
              "      <td>0</td>\n",
              "      <td>4 days</td>\n",
              "    </tr>\n",
              "    <tr>\n",
              "      <th>1</th>\n",
              "      <td>200769623</td>\n",
              "      <td>WAL-MAR in</td>\n",
              "      <td>2019-08-28</td>\n",
              "      <td>2019-11-08</td>\n",
              "      <td>2019-08-10</td>\n",
              "      <td>2019-08-26</td>\n",
              "      <td>USD</td>\n",
              "      <td>7684.78</td>\n",
              "      <td>1.929732e+09</td>\n",
              "      <td>0</td>\n",
              "      <td>2 days</td>\n",
              "    </tr>\n",
              "    <tr>\n",
              "      <th>2</th>\n",
              "      <td>200769623</td>\n",
              "      <td>WAL-MAR llc</td>\n",
              "      <td>2019-09-07</td>\n",
              "      <td>2019-06-29</td>\n",
              "      <td>2019-06-28</td>\n",
              "      <td>2019-07-14</td>\n",
              "      <td>USD</td>\n",
              "      <td>12320.17</td>\n",
              "      <td>1.929554e+09</td>\n",
              "      <td>0</td>\n",
              "      <td>55 days</td>\n",
              "    </tr>\n",
              "    <tr>\n",
              "      <th>3</th>\n",
              "      <td>200416837</td>\n",
              "      <td>DEC llc</td>\n",
              "      <td>2019-02-12</td>\n",
              "      <td>2019-11-22</td>\n",
              "      <td>2019-11-22</td>\n",
              "      <td>2019-12-09</td>\n",
              "      <td>USD</td>\n",
              "      <td>196.08</td>\n",
              "      <td>1.930184e+09</td>\n",
              "      <td>0</td>\n",
              "      <td>-300 days</td>\n",
              "    </tr>\n",
              "    <tr>\n",
              "      <th>4</th>\n",
              "      <td>200769623</td>\n",
              "      <td>WAL-MAR us</td>\n",
              "      <td>2020-02-18</td>\n",
              "      <td>2020-01-30</td>\n",
              "      <td>2020-01-30</td>\n",
              "      <td>2020-02-14</td>\n",
              "      <td>USD</td>\n",
              "      <td>51605.46</td>\n",
              "      <td>1.930459e+09</td>\n",
              "      <td>0</td>\n",
              "      <td>4 days</td>\n",
              "    </tr>\n",
              "  </tbody>\n",
              "</table>\n",
              "</div>"
            ],
            "text/plain": [
              "  cust_number name_customer clear_date posting_date document_create_date  \\\n",
              "0   200186937      SYSC llc 2019-01-22   2019-03-01           2019-01-03   \n",
              "1   200769623    WAL-MAR in 2019-08-28   2019-11-08           2019-08-10   \n",
              "2   200769623   WAL-MAR llc 2019-09-07   2019-06-29           2019-06-28   \n",
              "3   200416837       DEC llc 2019-02-12   2019-11-22           2019-11-22   \n",
              "4   200769623    WAL-MAR us 2020-02-18   2020-01-30           2020-01-30   \n",
              "\n",
              "  due_in_date invoice_currency  total_open_amount    invoice_id  isOpen  \\\n",
              "0  2019-01-18              USD            5020.64  1.928564e+09       0   \n",
              "1  2019-08-26              USD            7684.78  1.929732e+09       0   \n",
              "2  2019-07-14              USD           12320.17  1.929554e+09       0   \n",
              "3  2019-12-09              USD             196.08  1.930184e+09       0   \n",
              "4  2020-02-14              USD           51605.46  1.930459e+09       0   \n",
              "\n",
              "      Delay  \n",
              "0    4 days  \n",
              "1    2 days  \n",
              "2   55 days  \n",
              "3 -300 days  \n",
              "4    4 days  "
            ]
          },
          "metadata": {
            "tags": []
          },
          "execution_count": 96
        }
      ]
    },
    {
      "cell_type": "code",
      "metadata": {
        "id": "-Nyuj35iWA6-"
      },
      "source": [
        "import datetime as dt\n",
        "main_train[\"Delay\"] = (main_train[\"Delay\"]).dt.days"
      ],
      "execution_count": null,
      "outputs": []
    },
    {
      "cell_type": "code",
      "metadata": {
        "colab": {
          "base_uri": "https://localhost:8080/",
          "height": 204
        },
        "id": "frz_eoAoWUvB",
        "outputId": "4665d4c3-cb9b-45f9-a302-997b96cbaed1"
      },
      "source": [
        "main_train.head()"
      ],
      "execution_count": null,
      "outputs": [
        {
          "output_type": "execute_result",
          "data": {
            "text/html": [
              "<div>\n",
              "<style scoped>\n",
              "    .dataframe tbody tr th:only-of-type {\n",
              "        vertical-align: middle;\n",
              "    }\n",
              "\n",
              "    .dataframe tbody tr th {\n",
              "        vertical-align: top;\n",
              "    }\n",
              "\n",
              "    .dataframe thead th {\n",
              "        text-align: right;\n",
              "    }\n",
              "</style>\n",
              "<table border=\"1\" class=\"dataframe\">\n",
              "  <thead>\n",
              "    <tr style=\"text-align: right;\">\n",
              "      <th></th>\n",
              "      <th>cust_number</th>\n",
              "      <th>name_customer</th>\n",
              "      <th>clear_date</th>\n",
              "      <th>posting_date</th>\n",
              "      <th>document_create_date</th>\n",
              "      <th>due_in_date</th>\n",
              "      <th>invoice_currency</th>\n",
              "      <th>total_open_amount</th>\n",
              "      <th>invoice_id</th>\n",
              "      <th>isOpen</th>\n",
              "      <th>Delay</th>\n",
              "    </tr>\n",
              "  </thead>\n",
              "  <tbody>\n",
              "    <tr>\n",
              "      <th>0</th>\n",
              "      <td>200186937</td>\n",
              "      <td>SYSC llc</td>\n",
              "      <td>2019-01-22</td>\n",
              "      <td>2019-03-01</td>\n",
              "      <td>2019-01-03</td>\n",
              "      <td>2019-01-18</td>\n",
              "      <td>USD</td>\n",
              "      <td>5020.64</td>\n",
              "      <td>1.928564e+09</td>\n",
              "      <td>0</td>\n",
              "      <td>4</td>\n",
              "    </tr>\n",
              "    <tr>\n",
              "      <th>1</th>\n",
              "      <td>200769623</td>\n",
              "      <td>WAL-MAR in</td>\n",
              "      <td>2019-08-28</td>\n",
              "      <td>2019-11-08</td>\n",
              "      <td>2019-08-10</td>\n",
              "      <td>2019-08-26</td>\n",
              "      <td>USD</td>\n",
              "      <td>7684.78</td>\n",
              "      <td>1.929732e+09</td>\n",
              "      <td>0</td>\n",
              "      <td>2</td>\n",
              "    </tr>\n",
              "    <tr>\n",
              "      <th>2</th>\n",
              "      <td>200769623</td>\n",
              "      <td>WAL-MAR llc</td>\n",
              "      <td>2019-09-07</td>\n",
              "      <td>2019-06-29</td>\n",
              "      <td>2019-06-28</td>\n",
              "      <td>2019-07-14</td>\n",
              "      <td>USD</td>\n",
              "      <td>12320.17</td>\n",
              "      <td>1.929554e+09</td>\n",
              "      <td>0</td>\n",
              "      <td>55</td>\n",
              "    </tr>\n",
              "    <tr>\n",
              "      <th>3</th>\n",
              "      <td>200416837</td>\n",
              "      <td>DEC llc</td>\n",
              "      <td>2019-02-12</td>\n",
              "      <td>2019-11-22</td>\n",
              "      <td>2019-11-22</td>\n",
              "      <td>2019-12-09</td>\n",
              "      <td>USD</td>\n",
              "      <td>196.08</td>\n",
              "      <td>1.930184e+09</td>\n",
              "      <td>0</td>\n",
              "      <td>-300</td>\n",
              "    </tr>\n",
              "    <tr>\n",
              "      <th>4</th>\n",
              "      <td>200769623</td>\n",
              "      <td>WAL-MAR us</td>\n",
              "      <td>2020-02-18</td>\n",
              "      <td>2020-01-30</td>\n",
              "      <td>2020-01-30</td>\n",
              "      <td>2020-02-14</td>\n",
              "      <td>USD</td>\n",
              "      <td>51605.46</td>\n",
              "      <td>1.930459e+09</td>\n",
              "      <td>0</td>\n",
              "      <td>4</td>\n",
              "    </tr>\n",
              "  </tbody>\n",
              "</table>\n",
              "</div>"
            ],
            "text/plain": [
              "  cust_number name_customer clear_date posting_date document_create_date  \\\n",
              "0   200186937      SYSC llc 2019-01-22   2019-03-01           2019-01-03   \n",
              "1   200769623    WAL-MAR in 2019-08-28   2019-11-08           2019-08-10   \n",
              "2   200769623   WAL-MAR llc 2019-09-07   2019-06-29           2019-06-28   \n",
              "3   200416837       DEC llc 2019-02-12   2019-11-22           2019-11-22   \n",
              "4   200769623    WAL-MAR us 2020-02-18   2020-01-30           2020-01-30   \n",
              "\n",
              "  due_in_date invoice_currency  total_open_amount    invoice_id  isOpen  Delay  \n",
              "0  2019-01-18              USD            5020.64  1.928564e+09       0      4  \n",
              "1  2019-08-26              USD            7684.78  1.929732e+09       0      2  \n",
              "2  2019-07-14              USD           12320.17  1.929554e+09       0     55  \n",
              "3  2019-12-09              USD             196.08  1.930184e+09       0   -300  \n",
              "4  2020-02-14              USD           51605.46  1.930459e+09       0      4  "
            ]
          },
          "metadata": {
            "tags": []
          },
          "execution_count": 98
        }
      ]
    },
    {
      "cell_type": "code",
      "metadata": {
        "colab": {
          "base_uri": "https://localhost:8080/",
          "height": 419
        },
        "id": "u49uTgqO5CSE",
        "outputId": "544bbc6e-4ba9-4187-fce9-1a58d0d865e3"
      },
      "source": [
        "main_train"
      ],
      "execution_count": null,
      "outputs": [
        {
          "output_type": "execute_result",
          "data": {
            "text/html": [
              "<div>\n",
              "<style scoped>\n",
              "    .dataframe tbody tr th:only-of-type {\n",
              "        vertical-align: middle;\n",
              "    }\n",
              "\n",
              "    .dataframe tbody tr th {\n",
              "        vertical-align: top;\n",
              "    }\n",
              "\n",
              "    .dataframe thead th {\n",
              "        text-align: right;\n",
              "    }\n",
              "</style>\n",
              "<table border=\"1\" class=\"dataframe\">\n",
              "  <thead>\n",
              "    <tr style=\"text-align: right;\">\n",
              "      <th></th>\n",
              "      <th>cust_number</th>\n",
              "      <th>name_customer</th>\n",
              "      <th>clear_date</th>\n",
              "      <th>posting_date</th>\n",
              "      <th>document_create_date</th>\n",
              "      <th>due_in_date</th>\n",
              "      <th>invoice_currency</th>\n",
              "      <th>total_open_amount</th>\n",
              "      <th>invoice_id</th>\n",
              "      <th>isOpen</th>\n",
              "      <th>Delay</th>\n",
              "    </tr>\n",
              "  </thead>\n",
              "  <tbody>\n",
              "    <tr>\n",
              "      <th>0</th>\n",
              "      <td>200186937</td>\n",
              "      <td>SYSC llc</td>\n",
              "      <td>2019-01-22</td>\n",
              "      <td>2019-03-01</td>\n",
              "      <td>2019-01-03</td>\n",
              "      <td>2019-01-18</td>\n",
              "      <td>USD</td>\n",
              "      <td>5020.64</td>\n",
              "      <td>1.928564e+09</td>\n",
              "      <td>0</td>\n",
              "      <td>4</td>\n",
              "    </tr>\n",
              "    <tr>\n",
              "      <th>1</th>\n",
              "      <td>200769623</td>\n",
              "      <td>WAL-MAR in</td>\n",
              "      <td>2019-08-28</td>\n",
              "      <td>2019-11-08</td>\n",
              "      <td>2019-08-10</td>\n",
              "      <td>2019-08-26</td>\n",
              "      <td>USD</td>\n",
              "      <td>7684.78</td>\n",
              "      <td>1.929732e+09</td>\n",
              "      <td>0</td>\n",
              "      <td>2</td>\n",
              "    </tr>\n",
              "    <tr>\n",
              "      <th>2</th>\n",
              "      <td>200769623</td>\n",
              "      <td>WAL-MAR llc</td>\n",
              "      <td>2019-09-07</td>\n",
              "      <td>2019-06-29</td>\n",
              "      <td>2019-06-28</td>\n",
              "      <td>2019-07-14</td>\n",
              "      <td>USD</td>\n",
              "      <td>12320.17</td>\n",
              "      <td>1.929554e+09</td>\n",
              "      <td>0</td>\n",
              "      <td>55</td>\n",
              "    </tr>\n",
              "    <tr>\n",
              "      <th>3</th>\n",
              "      <td>200416837</td>\n",
              "      <td>DEC llc</td>\n",
              "      <td>2019-02-12</td>\n",
              "      <td>2019-11-22</td>\n",
              "      <td>2019-11-22</td>\n",
              "      <td>2019-12-09</td>\n",
              "      <td>USD</td>\n",
              "      <td>196.08</td>\n",
              "      <td>1.930184e+09</td>\n",
              "      <td>0</td>\n",
              "      <td>-300</td>\n",
              "    </tr>\n",
              "    <tr>\n",
              "      <th>4</th>\n",
              "      <td>200769623</td>\n",
              "      <td>WAL-MAR us</td>\n",
              "      <td>2020-02-18</td>\n",
              "      <td>2020-01-30</td>\n",
              "      <td>2020-01-30</td>\n",
              "      <td>2020-02-14</td>\n",
              "      <td>USD</td>\n",
              "      <td>51605.46</td>\n",
              "      <td>1.930459e+09</td>\n",
              "      <td>0</td>\n",
              "      <td>4</td>\n",
              "    </tr>\n",
              "    <tr>\n",
              "      <th>...</th>\n",
              "      <td>...</td>\n",
              "      <td>...</td>\n",
              "      <td>...</td>\n",
              "      <td>...</td>\n",
              "      <td>...</td>\n",
              "      <td>...</td>\n",
              "      <td>...</td>\n",
              "      <td>...</td>\n",
              "      <td>...</td>\n",
              "      <td>...</td>\n",
              "      <td>...</td>\n",
              "    </tr>\n",
              "    <tr>\n",
              "      <th>49990</th>\n",
              "      <td>200782669</td>\n",
              "      <td>SYGMA corp</td>\n",
              "      <td>2019-08-23</td>\n",
              "      <td>2019-07-08</td>\n",
              "      <td>2019-08-03</td>\n",
              "      <td>2019-08-22</td>\n",
              "      <td>USD</td>\n",
              "      <td>10059.80</td>\n",
              "      <td>1.929687e+09</td>\n",
              "      <td>0</td>\n",
              "      <td>1</td>\n",
              "    </tr>\n",
              "    <tr>\n",
              "      <th>49994</th>\n",
              "      <td>200759082</td>\n",
              "      <td>INGL trust</td>\n",
              "      <td>2019-07-31</td>\n",
              "      <td>2019-07-14</td>\n",
              "      <td>2019-07-15</td>\n",
              "      <td>2019-07-29</td>\n",
              "      <td>USD</td>\n",
              "      <td>42044.39</td>\n",
              "      <td>1.929620e+09</td>\n",
              "      <td>0</td>\n",
              "      <td>2</td>\n",
              "    </tr>\n",
              "    <tr>\n",
              "      <th>49995</th>\n",
              "      <td>200769623</td>\n",
              "      <td>WAL-MAR systems</td>\n",
              "      <td>2019-03-09</td>\n",
              "      <td>2019-08-22</td>\n",
              "      <td>2019-08-21</td>\n",
              "      <td>2019-09-06</td>\n",
              "      <td>USD</td>\n",
              "      <td>8949.70</td>\n",
              "      <td>1.929772e+09</td>\n",
              "      <td>0</td>\n",
              "      <td>-181</td>\n",
              "    </tr>\n",
              "    <tr>\n",
              "      <th>49997</th>\n",
              "      <td>140104472</td>\n",
              "      <td>MARTIN corporation</td>\n",
              "      <td>2019-10-30</td>\n",
              "      <td>2019-06-10</td>\n",
              "      <td>2019-10-07</td>\n",
              "      <td>2019-10-25</td>\n",
              "      <td>CAD</td>\n",
              "      <td>5981.76</td>\n",
              "      <td>2.960585e+09</td>\n",
              "      <td>0</td>\n",
              "      <td>5</td>\n",
              "    </tr>\n",
              "    <tr>\n",
              "      <th>49998</th>\n",
              "      <td>200763814</td>\n",
              "      <td>SYSCO F trust</td>\n",
              "      <td>2019-04-22</td>\n",
              "      <td>2019-04-04</td>\n",
              "      <td>2019-04-05</td>\n",
              "      <td>2019-04-19</td>\n",
              "      <td>USD</td>\n",
              "      <td>31876.59</td>\n",
              "      <td>1.929089e+09</td>\n",
              "      <td>0</td>\n",
              "      <td>3</td>\n",
              "    </tr>\n",
              "  </tbody>\n",
              "</table>\n",
              "<p>39145 rows × 11 columns</p>\n",
              "</div>"
            ],
            "text/plain": [
              "      cust_number       name_customer clear_date posting_date  \\\n",
              "0       200186937            SYSC llc 2019-01-22   2019-03-01   \n",
              "1       200769623          WAL-MAR in 2019-08-28   2019-11-08   \n",
              "2       200769623         WAL-MAR llc 2019-09-07   2019-06-29   \n",
              "3       200416837             DEC llc 2019-02-12   2019-11-22   \n",
              "4       200769623          WAL-MAR us 2020-02-18   2020-01-30   \n",
              "...           ...                 ...        ...          ...   \n",
              "49990   200782669          SYGMA corp 2019-08-23   2019-07-08   \n",
              "49994   200759082          INGL trust 2019-07-31   2019-07-14   \n",
              "49995   200769623     WAL-MAR systems 2019-03-09   2019-08-22   \n",
              "49997   140104472  MARTIN corporation 2019-10-30   2019-06-10   \n",
              "49998   200763814       SYSCO F trust 2019-04-22   2019-04-04   \n",
              "\n",
              "      document_create_date due_in_date invoice_currency  total_open_amount  \\\n",
              "0               2019-01-03  2019-01-18              USD            5020.64   \n",
              "1               2019-08-10  2019-08-26              USD            7684.78   \n",
              "2               2019-06-28  2019-07-14              USD           12320.17   \n",
              "3               2019-11-22  2019-12-09              USD             196.08   \n",
              "4               2020-01-30  2020-02-14              USD           51605.46   \n",
              "...                    ...         ...              ...                ...   \n",
              "49990           2019-08-03  2019-08-22              USD           10059.80   \n",
              "49994           2019-07-15  2019-07-29              USD           42044.39   \n",
              "49995           2019-08-21  2019-09-06              USD            8949.70   \n",
              "49997           2019-10-07  2019-10-25              CAD            5981.76   \n",
              "49998           2019-04-05  2019-04-19              USD           31876.59   \n",
              "\n",
              "         invoice_id  isOpen  Delay  \n",
              "0      1.928564e+09       0      4  \n",
              "1      1.929732e+09       0      2  \n",
              "2      1.929554e+09       0     55  \n",
              "3      1.930184e+09       0   -300  \n",
              "4      1.930459e+09       0      4  \n",
              "...             ...     ...    ...  \n",
              "49990  1.929687e+09       0      1  \n",
              "49994  1.929620e+09       0      2  \n",
              "49995  1.929772e+09       0   -181  \n",
              "49997  2.960585e+09       0      5  \n",
              "49998  1.929089e+09       0      3  \n",
              "\n",
              "[39145 rows x 11 columns]"
            ]
          },
          "metadata": {
            "tags": []
          },
          "execution_count": 99
        }
      ]
    },
    {
      "cell_type": "code",
      "metadata": {
        "colab": {
          "base_uri": "https://localhost:8080/"
        },
        "id": "BRJTNBx55HOK",
        "outputId": "064aea39-7ec3-4f4d-c1a1-9fbc5cab77a2"
      },
      "source": [
        "main_train.isna().sum()"
      ],
      "execution_count": null,
      "outputs": [
        {
          "output_type": "execute_result",
          "data": {
            "text/plain": [
              "cust_number             0\n",
              "name_customer           0\n",
              "clear_date              0\n",
              "posting_date            0\n",
              "document_create_date    0\n",
              "due_in_date             0\n",
              "invoice_currency        0\n",
              "total_open_amount       0\n",
              "invoice_id              0\n",
              "isOpen                  0\n",
              "Delay                   0\n",
              "dtype: int64"
            ]
          },
          "metadata": {
            "tags": []
          },
          "execution_count": 100
        }
      ]
    },
    {
      "cell_type": "code",
      "metadata": {
        "colab": {
          "base_uri": "https://localhost:8080/"
        },
        "id": "sYQvCDM761re",
        "outputId": "0123ffe8-aa60-4879-bcaa-d6525c6b49a2"
      },
      "source": [
        "main_train.info()"
      ],
      "execution_count": null,
      "outputs": [
        {
          "output_type": "stream",
          "text": [
            "<class 'pandas.core.frame.DataFrame'>\n",
            "Int64Index: 39145 entries, 0 to 49998\n",
            "Data columns (total 11 columns):\n",
            " #   Column                Non-Null Count  Dtype         \n",
            "---  ------                --------------  -----         \n",
            " 0   cust_number           39145 non-null  object        \n",
            " 1   name_customer         39145 non-null  object        \n",
            " 2   clear_date            39145 non-null  datetime64[ns]\n",
            " 3   posting_date          39145 non-null  datetime64[ns]\n",
            " 4   document_create_date  39145 non-null  datetime64[ns]\n",
            " 5   due_in_date           39145 non-null  datetime64[ns]\n",
            " 6   invoice_currency      39145 non-null  object        \n",
            " 7   total_open_amount     39145 non-null  float64       \n",
            " 8   invoice_id            39145 non-null  float64       \n",
            " 9   isOpen                39145 non-null  int64         \n",
            " 10  Delay                 39145 non-null  int64         \n",
            "dtypes: datetime64[ns](4), float64(2), int64(2), object(3)\n",
            "memory usage: 3.6+ MB\n"
          ],
          "name": "stdout"
        }
      ]
    },
    {
      "cell_type": "code",
      "metadata": {
        "colab": {
          "base_uri": "https://localhost:8080/",
          "height": 173
        },
        "id": "v5x2lehZ8MdN",
        "outputId": "51ac1806-cf7c-4387-c090-6be4a9f19657"
      },
      "source": [
        "main_train.corr()"
      ],
      "execution_count": null,
      "outputs": [
        {
          "output_type": "execute_result",
          "data": {
            "text/html": [
              "<div>\n",
              "<style scoped>\n",
              "    .dataframe tbody tr th:only-of-type {\n",
              "        vertical-align: middle;\n",
              "    }\n",
              "\n",
              "    .dataframe tbody tr th {\n",
              "        vertical-align: top;\n",
              "    }\n",
              "\n",
              "    .dataframe thead th {\n",
              "        text-align: right;\n",
              "    }\n",
              "</style>\n",
              "<table border=\"1\" class=\"dataframe\">\n",
              "  <thead>\n",
              "    <tr style=\"text-align: right;\">\n",
              "      <th></th>\n",
              "      <th>total_open_amount</th>\n",
              "      <th>invoice_id</th>\n",
              "      <th>isOpen</th>\n",
              "      <th>Delay</th>\n",
              "    </tr>\n",
              "  </thead>\n",
              "  <tbody>\n",
              "    <tr>\n",
              "      <th>total_open_amount</th>\n",
              "      <td>1.000000</td>\n",
              "      <td>0.191829</td>\n",
              "      <td>NaN</td>\n",
              "      <td>0.000436</td>\n",
              "    </tr>\n",
              "    <tr>\n",
              "      <th>invoice_id</th>\n",
              "      <td>0.191829</td>\n",
              "      <td>1.000000</td>\n",
              "      <td>NaN</td>\n",
              "      <td>0.020586</td>\n",
              "    </tr>\n",
              "    <tr>\n",
              "      <th>isOpen</th>\n",
              "      <td>NaN</td>\n",
              "      <td>NaN</td>\n",
              "      <td>NaN</td>\n",
              "      <td>NaN</td>\n",
              "    </tr>\n",
              "    <tr>\n",
              "      <th>Delay</th>\n",
              "      <td>0.000436</td>\n",
              "      <td>0.020586</td>\n",
              "      <td>NaN</td>\n",
              "      <td>1.000000</td>\n",
              "    </tr>\n",
              "  </tbody>\n",
              "</table>\n",
              "</div>"
            ],
            "text/plain": [
              "                   total_open_amount  invoice_id  isOpen     Delay\n",
              "total_open_amount           1.000000    0.191829     NaN  0.000436\n",
              "invoice_id                  0.191829    1.000000     NaN  0.020586\n",
              "isOpen                           NaN         NaN     NaN       NaN\n",
              "Delay                       0.000436    0.020586     NaN  1.000000"
            ]
          },
          "metadata": {
            "tags": []
          },
          "execution_count": 102
        }
      ]
    },
    {
      "cell_type": "code",
      "metadata": {
        "colab": {
          "base_uri": "https://localhost:8080/"
        },
        "id": "DjvZ-jCx-ayq",
        "outputId": "fd969647-ae2d-4401-a0b6-bd481048e509"
      },
      "source": [
        "main_train.nunique()"
      ],
      "execution_count": null,
      "outputs": [
        {
          "output_type": "execute_result",
          "data": {
            "text/plain": [
              "cust_number              1057\n",
              "name_customer            3937\n",
              "clear_date                392\n",
              "posting_date              422\n",
              "document_create_date      425\n",
              "due_in_date               491\n",
              "invoice_currency            2\n",
              "total_open_amount       35644\n",
              "invoice_id              39145\n",
              "isOpen                      1\n",
              "Delay                     597\n",
              "dtype: int64"
            ]
          },
          "metadata": {
            "tags": []
          },
          "execution_count": 103
        }
      ]
    },
    {
      "cell_type": "code",
      "metadata": {
        "colab": {
          "base_uri": "https://localhost:8080/"
        },
        "id": "HqDUISWVCcRm",
        "outputId": "43c81d83-2fc3-4d22-b41e-c3bd2e214bb2"
      },
      "source": [
        "main_train.drop('isOpen', axis = 1, inplace = True)\n",
        "main_train.shape"
      ],
      "execution_count": null,
      "outputs": [
        {
          "output_type": "execute_result",
          "data": {
            "text/plain": [
              "(39145, 10)"
            ]
          },
          "metadata": {
            "tags": []
          },
          "execution_count": 104
        }
      ]
    },
    {
      "cell_type": "code",
      "metadata": {
        "colab": {
          "base_uri": "https://localhost:8080/"
        },
        "id": "vJ-vofJyC0GT",
        "outputId": "a1cc5f23-fcad-41f4-ea0f-20142308456a"
      },
      "source": [
        "main_train.nunique()"
      ],
      "execution_count": null,
      "outputs": [
        {
          "output_type": "execute_result",
          "data": {
            "text/plain": [
              "cust_number              1057\n",
              "name_customer            3937\n",
              "clear_date                392\n",
              "posting_date              422\n",
              "document_create_date      425\n",
              "due_in_date               491\n",
              "invoice_currency            2\n",
              "total_open_amount       35644\n",
              "invoice_id              39145\n",
              "Delay                     597\n",
              "dtype: int64"
            ]
          },
          "metadata": {
            "tags": []
          },
          "execution_count": 105
        }
      ]
    },
    {
      "cell_type": "code",
      "metadata": {
        "colab": {
          "base_uri": "https://localhost:8080/"
        },
        "id": "ByIRE3mCDYtN",
        "outputId": "6acc0161-bb61-481b-ae24-e42854c2a0f1"
      },
      "source": [
        "main_train.name_customer.value_counts()"
      ],
      "execution_count": null,
      "outputs": [
        {
          "output_type": "execute_result",
          "data": {
            "text/plain": [
              "WAL-MAR in            888\n",
              "WAL-MAR llc           883\n",
              "WAL-MAR us            868\n",
              "WAL-MAR associates    862\n",
              "WAL-MAR corp          856\n",
              "                     ... \n",
              "BROW systems            1\n",
              "BAR                     1\n",
              "J KIN us                1\n",
              "CANADI us               1\n",
              "JACMAR associates       1\n",
              "Name: name_customer, Length: 3937, dtype: int64"
            ]
          },
          "metadata": {
            "tags": []
          },
          "execution_count": 106
        }
      ]
    },
    {
      "cell_type": "code",
      "metadata": {
        "id": "KFGWoOQLECyD"
      },
      "source": [
        "main_train.sort_values(by = ['posting_date'], inplace = True)"
      ],
      "execution_count": null,
      "outputs": []
    },
    {
      "cell_type": "code",
      "metadata": {
        "id": "Iowj3XQYKY9F"
      },
      "source": [
        "#data splitting\n",
        "from sklearn.model_selection import train_test_split"
      ],
      "execution_count": null,
      "outputs": []
    },
    {
      "cell_type": "code",
      "metadata": {
        "id": "YnFg7LAmMWJB"
      },
      "source": [
        "X = main_train.drop(['Delay'], axis = 1)"
      ],
      "execution_count": null,
      "outputs": []
    },
    {
      "cell_type": "code",
      "metadata": {
        "id": "q_Wmkzl6M-2t"
      },
      "source": [
        "y = main_train['Delay']"
      ],
      "execution_count": null,
      "outputs": []
    },
    {
      "cell_type": "code",
      "metadata": {
        "id": "-Q0_cMkMNHOj"
      },
      "source": [
        "X_train, X_inter_test, y_train, y_inter_test = train_test_split(X, y, test_size = 0.3, random_state = 0, shuffle = False)"
      ],
      "execution_count": null,
      "outputs": []
    },
    {
      "cell_type": "code",
      "metadata": {
        "colab": {
          "base_uri": "https://localhost:8080/"
        },
        "id": "SkL87Q5dOFc_",
        "outputId": "c6b1e1de-090e-41b2-eb69-8eac0f97e7d4"
      },
      "source": [
        "X_train.shape, X_inter_test.shape"
      ],
      "execution_count": null,
      "outputs": [
        {
          "output_type": "execute_result",
          "data": {
            "text/plain": [
              "((27401, 9), (11744, 9))"
            ]
          },
          "metadata": {
            "tags": []
          },
          "execution_count": 112
        }
      ]
    },
    {
      "cell_type": "code",
      "metadata": {
        "id": "4Tq5ZRXUOQ0i"
      },
      "source": [
        "X_val, X_test, y_val, y_test = train_test_split(X_inter_test, y_inter_test, test_size = 0.5, random_state = 0, shuffle = False)"
      ],
      "execution_count": null,
      "outputs": []
    },
    {
      "cell_type": "code",
      "metadata": {
        "colab": {
          "base_uri": "https://localhost:8080/"
        },
        "id": "s83uyQoqQxl8",
        "outputId": "dc7446a3-07d3-465c-d093-a80e9835556c"
      },
      "source": [
        "X_train.shape, X_val.shape, X_test.shape"
      ],
      "execution_count": null,
      "outputs": [
        {
          "output_type": "execute_result",
          "data": {
            "text/plain": [
              "((27401, 9), (5872, 9), (5872, 9))"
            ]
          },
          "metadata": {
            "tags": []
          },
          "execution_count": 114
        }
      ]
    },
    {
      "cell_type": "code",
      "metadata": {
        "colab": {
          "base_uri": "https://localhost:8080/"
        },
        "id": "xk3yUHGdSU1B",
        "outputId": "3f2da6e0-d716-41ba-e45e-46716e1727a8"
      },
      "source": [
        "y_train"
      ],
      "execution_count": null,
      "outputs": [
        {
          "output_type": "execute_result",
          "data": {
            "text/plain": [
              "4602       5\n",
              "37952    260\n",
              "14849    230\n",
              "21725      1\n",
              "47634    291\n",
              "        ... \n",
              "42769     -8\n",
              "27225      0\n",
              "23778   -258\n",
              "39727     28\n",
              "23754      0\n",
              "Name: Delay, Length: 27401, dtype: int64"
            ]
          },
          "metadata": {
            "tags": []
          },
          "execution_count": 115
        }
      ]
    },
    {
      "cell_type": "code",
      "metadata": {
        "colab": {
          "base_uri": "https://localhost:8080/"
        },
        "id": "OuhYCvPAU7Z_",
        "outputId": "c474cb26-4b11-456b-edb8-759d77ec278d"
      },
      "source": [
        "sns.distplot(y_train)"
      ],
      "execution_count": null,
      "outputs": [
        {
          "output_type": "execute_result",
          "data": {
            "text/plain": [
              "<matplotlib.axes._subplots.AxesSubplot at 0x7f33acff63d0>"
            ]
          },
          "metadata": {
            "tags": []
          },
          "execution_count": 117
        },
        {
          "output_type": "display_data",
          "data": {
            "image/png": "[encoded data removed]",
            "text/plain": [
              "<Figure size 432x288 with 1 Axes>"
            ]
          },
          "metadata": {
            "tags": [],
            "needs_background": "light"
          }
        }
      ]
    },
    {
      "cell_type": "code",
      "metadata": {
        "colab": {
          "base_uri": "https://localhost:8080/",
          "height": 419
        },
        "id": "OZXUyQAQYuVl",
        "outputId": "48991fb1-5bac-4003-a270-4610ac31ede8"
      },
      "source": [
        "X_train.merge(y_train, on = X_train.index)"
      ],
      "execution_count": null,
      "outputs": [
        {
          "output_type": "execute_result",
          "data": {
            "text/html": [
              "<div>\n",
              "<style scoped>\n",
              "    .dataframe tbody tr th:only-of-type {\n",
              "        vertical-align: middle;\n",
              "    }\n",
              "\n",
              "    .dataframe tbody tr th {\n",
              "        vertical-align: top;\n",
              "    }\n",
              "\n",
              "    .dataframe thead th {\n",
              "        text-align: right;\n",
              "    }\n",
              "</style>\n",
              "<table border=\"1\" class=\"dataframe\">\n",
              "  <thead>\n",
              "    <tr style=\"text-align: right;\">\n",
              "      <th></th>\n",
              "      <th>key_0</th>\n",
              "      <th>cust_number</th>\n",
              "      <th>name_customer</th>\n",
              "      <th>clear_date</th>\n",
              "      <th>posting_date</th>\n",
              "      <th>document_create_date</th>\n",
              "      <th>due_in_date</th>\n",
              "      <th>invoice_currency</th>\n",
              "      <th>total_open_amount</th>\n",
              "      <th>invoice_id</th>\n",
              "      <th>Delay</th>\n",
              "    </tr>\n",
              "  </thead>\n",
              "  <tbody>\n",
              "    <tr>\n",
              "      <th>0</th>\n",
              "      <td>4602</td>\n",
              "      <td>140104440</td>\n",
              "      <td>SO corp</td>\n",
              "      <td>2019-01-14</td>\n",
              "      <td>2018-12-30</td>\n",
              "      <td>2018-12-30</td>\n",
              "      <td>2019-01-09</td>\n",
              "      <td>CAD</td>\n",
              "      <td>222893.88</td>\n",
              "      <td>2.960521e+09</td>\n",
              "      <td>5</td>\n",
              "    </tr>\n",
              "    <tr>\n",
              "      <th>1</th>\n",
              "      <td>37952</td>\n",
              "      <td>200769623</td>\n",
              "      <td>WAL-MAR co</td>\n",
              "      <td>2019-10-01</td>\n",
              "      <td>2018-12-30</td>\n",
              "      <td>2018-12-30</td>\n",
              "      <td>2019-01-14</td>\n",
              "      <td>USD</td>\n",
              "      <td>29096.48</td>\n",
              "      <td>1.928543e+09</td>\n",
              "      <td>260</td>\n",
              "    </tr>\n",
              "    <tr>\n",
              "      <th>2</th>\n",
              "      <td>14849</td>\n",
              "      <td>200769623</td>\n",
              "      <td>WAL-MAR foundation</td>\n",
              "      <td>2019-09-01</td>\n",
              "      <td>2018-12-30</td>\n",
              "      <td>2018-12-29</td>\n",
              "      <td>2019-01-14</td>\n",
              "      <td>USD</td>\n",
              "      <td>11143.09</td>\n",
              "      <td>1.928537e+09</td>\n",
              "      <td>230</td>\n",
              "    </tr>\n",
              "    <tr>\n",
              "      <th>3</th>\n",
              "      <td>21725</td>\n",
              "      <td>200726979</td>\n",
              "      <td>BJ'S</td>\n",
              "      <td>2019-01-15</td>\n",
              "      <td>2018-12-30</td>\n",
              "      <td>2018-12-29</td>\n",
              "      <td>2019-01-14</td>\n",
              "      <td>USD</td>\n",
              "      <td>156.12</td>\n",
              "      <td>1.928541e+09</td>\n",
              "      <td>1</td>\n",
              "    </tr>\n",
              "    <tr>\n",
              "      <th>4</th>\n",
              "      <td>47634</td>\n",
              "      <td>200769623</td>\n",
              "      <td>WAL-MAR corporation</td>\n",
              "      <td>2019-11-01</td>\n",
              "      <td>2018-12-30</td>\n",
              "      <td>2018-12-30</td>\n",
              "      <td>2019-01-14</td>\n",
              "      <td>USD</td>\n",
              "      <td>41899.59</td>\n",
              "      <td>1.928543e+09</td>\n",
              "      <td>291</td>\n",
              "    </tr>\n",
              "    <tr>\n",
              "      <th>...</th>\n",
              "      <td>...</td>\n",
              "      <td>...</td>\n",
              "      <td>...</td>\n",
              "      <td>...</td>\n",
              "      <td>...</td>\n",
              "      <td>...</td>\n",
              "      <td>...</td>\n",
              "      <td>...</td>\n",
              "      <td>...</td>\n",
              "      <td>...</td>\n",
              "      <td>...</td>\n",
              "    </tr>\n",
              "    <tr>\n",
              "      <th>27396</th>\n",
              "      <td>42769</td>\n",
              "      <td>200803720</td>\n",
              "      <td>DEC corporation</td>\n",
              "      <td>2019-09-16</td>\n",
              "      <td>2019-10-09</td>\n",
              "      <td>2019-09-10</td>\n",
              "      <td>2019-09-24</td>\n",
              "      <td>USD</td>\n",
              "      <td>60.12</td>\n",
              "      <td>1.929857e+09</td>\n",
              "      <td>-8</td>\n",
              "    </tr>\n",
              "    <tr>\n",
              "      <th>27397</th>\n",
              "      <td>27225</td>\n",
              "      <td>200418007</td>\n",
              "      <td>AM foundation</td>\n",
              "      <td>2019-09-25</td>\n",
              "      <td>2019-10-09</td>\n",
              "      <td>2019-09-05</td>\n",
              "      <td>2019-09-25</td>\n",
              "      <td>USD</td>\n",
              "      <td>679.43</td>\n",
              "      <td>1.929830e+09</td>\n",
              "      <td>0</td>\n",
              "    </tr>\n",
              "    <tr>\n",
              "      <th>27398</th>\n",
              "      <td>23778</td>\n",
              "      <td>200722444</td>\n",
              "      <td>PERFOR corporation</td>\n",
              "      <td>2019-01-10</td>\n",
              "      <td>2019-10-09</td>\n",
              "      <td>2019-09-09</td>\n",
              "      <td>2019-09-25</td>\n",
              "      <td>USD</td>\n",
              "      <td>88347.18</td>\n",
              "      <td>1.929854e+09</td>\n",
              "      <td>-258</td>\n",
              "    </tr>\n",
              "    <tr>\n",
              "      <th>27399</th>\n",
              "      <td>39727</td>\n",
              "      <td>200020431</td>\n",
              "      <td>DEC llc</td>\n",
              "      <td>2019-10-09</td>\n",
              "      <td>2019-10-09</td>\n",
              "      <td>2019-09-10</td>\n",
              "      <td>2019-09-11</td>\n",
              "      <td>USD</td>\n",
              "      <td>4735.34</td>\n",
              "      <td>1.929857e+09</td>\n",
              "      <td>28</td>\n",
              "    </tr>\n",
              "    <tr>\n",
              "      <th>27400</th>\n",
              "      <td>23754</td>\n",
              "      <td>200772670</td>\n",
              "      <td>ASSOCIAT foundation</td>\n",
              "      <td>2019-09-25</td>\n",
              "      <td>2019-10-09</td>\n",
              "      <td>2019-09-10</td>\n",
              "      <td>2019-09-25</td>\n",
              "      <td>USD</td>\n",
              "      <td>54033.31</td>\n",
              "      <td>1.929855e+09</td>\n",
              "      <td>0</td>\n",
              "    </tr>\n",
              "  </tbody>\n",
              "</table>\n",
              "<p>27401 rows × 11 columns</p>\n",
              "</div>"
            ],
            "text/plain": [
              "       key_0 cust_number        name_customer clear_date posting_date  \\\n",
              "0       4602   140104440              SO corp 2019-01-14   2018-12-30   \n",
              "1      37952   200769623           WAL-MAR co 2019-10-01   2018-12-30   \n",
              "2      14849   200769623   WAL-MAR foundation 2019-09-01   2018-12-30   \n",
              "3      21725   200726979               BJ'S   2019-01-15   2018-12-30   \n",
              "4      47634   200769623  WAL-MAR corporation 2019-11-01   2018-12-30   \n",
              "...      ...         ...                  ...        ...          ...   \n",
              "27396  42769   200803720      DEC corporation 2019-09-16   2019-10-09   \n",
              "27397  27225   200418007        AM foundation 2019-09-25   2019-10-09   \n",
              "27398  23778   200722444   PERFOR corporation 2019-01-10   2019-10-09   \n",
              "27399  39727   200020431              DEC llc 2019-10-09   2019-10-09   \n",
              "27400  23754   200772670  ASSOCIAT foundation 2019-09-25   2019-10-09   \n",
              "\n",
              "      document_create_date due_in_date invoice_currency  total_open_amount  \\\n",
              "0               2018-12-30  2019-01-09              CAD          222893.88   \n",
              "1               2018-12-30  2019-01-14              USD           29096.48   \n",
              "2               2018-12-29  2019-01-14              USD           11143.09   \n",
              "3               2018-12-29  2019-01-14              USD             156.12   \n",
              "4               2018-12-30  2019-01-14              USD           41899.59   \n",
              "...                    ...         ...              ...                ...   \n",
              "27396           2019-09-10  2019-09-24              USD              60.12   \n",
              "27397           2019-09-05  2019-09-25              USD             679.43   \n",
              "27398           2019-09-09  2019-09-25              USD           88347.18   \n",
              "27399           2019-09-10  2019-09-11              USD            4735.34   \n",
              "27400           2019-09-10  2019-09-25              USD           54033.31   \n",
              "\n",
              "         invoice_id  Delay  \n",
              "0      2.960521e+09      5  \n",
              "1      1.928543e+09    260  \n",
              "2      1.928537e+09    230  \n",
              "3      1.928541e+09      1  \n",
              "4      1.928543e+09    291  \n",
              "...             ...    ...  \n",
              "27396  1.929857e+09     -8  \n",
              "27397  1.929830e+09      0  \n",
              "27398  1.929854e+09   -258  \n",
              "27399  1.929857e+09     28  \n",
              "27400  1.929855e+09      0  \n",
              "\n",
              "[27401 rows x 11 columns]"
            ]
          },
          "metadata": {
            "tags": []
          },
          "execution_count": 39
        }
      ]
    },
    {
      "cell_type": "code",
      "metadata": {
        "colab": {
          "base_uri": "https://localhost:8080/",
          "height": 296
        },
        "id": "JiYKxfyDHtbj",
        "outputId": "91646e63-0d9e-46b1-fd3f-4e31e86abcfd"
      },
      "source": [
        "sns.scatterplot(data = X_train.merge(y_train, on = X_train.index), x = 'Delay', y = 'total_open_amount')"
      ],
      "execution_count": null,
      "outputs": [
        {
          "output_type": "execute_result",
          "data": {
            "text/plain": [
              "<matplotlib.axes._subplots.AxesSubplot at 0x7f33adadb910>"
            ]
          },
          "metadata": {
            "tags": []
          },
          "execution_count": 40
        },
        {
          "output_type": "display_data",
          "data": {
            "image/png": "[encoded data removed]",
            "text/plain": [
              "<Figure size 432x288 with 1 Axes>"
            ]
          },
          "metadata": {
            "tags": [],
            "needs_background": "light"
          }
        }
      ]
    },
    {
      "cell_type": "code",
      "metadata": {
        "colab": {
          "base_uri": "https://localhost:8080/"
        },
        "id": "GLkv0noEJmvc",
        "outputId": "2327591a-1626-42a4-8a65-dc244b33a834"
      },
      "source": [
        "#Feature Engineering\n",
        "df.columns"
      ],
      "execution_count": null,
      "outputs": [
        {
          "output_type": "execute_result",
          "data": {
            "text/plain": [
              "Index(['cust_number', 'name_customer', 'clear_date', 'posting_date',\n",
              "       'document_create_date', 'due_in_date', 'invoice_currency',\n",
              "       'total_open_amount', 'invoice_id', 'isOpen'],\n",
              "      dtype='object')"
            ]
          },
          "metadata": {
            "tags": []
          },
          "execution_count": 41
        }
      ]
    },
    {
      "cell_type": "code",
      "metadata": {
        "colab": {
          "base_uri": "https://localhost:8080/"
        },
        "id": "XeiZzMW3Lmnb",
        "outputId": "70a23a68-158a-46a3-db8d-d6d262cd4318"
      },
      "source": [
        "X_train.info()"
      ],
      "execution_count": null,
      "outputs": [
        {
          "output_type": "stream",
          "text": [
            "<class 'pandas.core.frame.DataFrame'>\n",
            "Int64Index: 27401 entries, 4602 to 23754\n",
            "Data columns (total 9 columns):\n",
            " #   Column                Non-Null Count  Dtype         \n",
            "---  ------                --------------  -----         \n",
            " 0   cust_number           27401 non-null  object        \n",
            " 1   name_customer         27401 non-null  object        \n",
            " 2   clear_date            27401 non-null  datetime64[ns]\n",
            " 3   posting_date          27401 non-null  datetime64[ns]\n",
            " 4   document_create_date  27401 non-null  datetime64[ns]\n",
            " 5   due_in_date           27401 non-null  datetime64[ns]\n",
            " 6   invoice_currency      27401 non-null  object        \n",
            " 7   total_open_amount     27401 non-null  float64       \n",
            " 8   invoice_id            27401 non-null  float64       \n",
            "dtypes: datetime64[ns](4), float64(2), object(3)\n",
            "memory usage: 2.1+ MB\n"
          ],
          "name": "stdout"
        }
      ]
    },
    {
      "cell_type": "code",
      "metadata": {
        "id": "dKWvKkqnN74s"
      },
      "source": [
        "from sklearn.preprocessing import OneHotEncoder\n",
        "from sklearn.preprocessing import LabelEncoder"
      ],
      "execution_count": null,
      "outputs": []
    },
    {
      "cell_type": "code",
      "metadata": {
        "id": "PJ-rBUVFPNiH"
      },
      "source": [
        "Currency_enc = LabelEncoder()\n",
        "Currency_enc.fit(X_train['invoice_currency'])\n",
        "X_train['Invoice_Currency'] = Currency_enc.transform(X_train['invoice_currency'])"
      ],
      "execution_count": null,
      "outputs": []
    },
    {
      "cell_type": "code",
      "metadata": {
        "colab": {
          "base_uri": "https://localhost:8080/",
          "height": 419
        },
        "id": "nrZozhfGT0JY",
        "outputId": "a6e52077-35fd-486d-d19c-8dc9be0f2f21"
      },
      "source": [
        "X_train[['invoice_currency', 'Invoice_Currency']]"
      ],
      "execution_count": null,
      "outputs": [
        {
          "output_type": "execute_result",
          "data": {
            "text/html": [
              "<div>\n",
              "<style scoped>\n",
              "    .dataframe tbody tr th:only-of-type {\n",
              "        vertical-align: middle;\n",
              "    }\n",
              "\n",
              "    .dataframe tbody tr th {\n",
              "        vertical-align: top;\n",
              "    }\n",
              "\n",
              "    .dataframe thead th {\n",
              "        text-align: right;\n",
              "    }\n",
              "</style>\n",
              "<table border=\"1\" class=\"dataframe\">\n",
              "  <thead>\n",
              "    <tr style=\"text-align: right;\">\n",
              "      <th></th>\n",
              "      <th>invoice_currency</th>\n",
              "      <th>Invoice_Currency</th>\n",
              "    </tr>\n",
              "  </thead>\n",
              "  <tbody>\n",
              "    <tr>\n",
              "      <th>4602</th>\n",
              "      <td>CAD</td>\n",
              "      <td>0</td>\n",
              "    </tr>\n",
              "    <tr>\n",
              "      <th>37952</th>\n",
              "      <td>USD</td>\n",
              "      <td>1</td>\n",
              "    </tr>\n",
              "    <tr>\n",
              "      <th>14849</th>\n",
              "      <td>USD</td>\n",
              "      <td>1</td>\n",
              "    </tr>\n",
              "    <tr>\n",
              "      <th>21725</th>\n",
              "      <td>USD</td>\n",
              "      <td>1</td>\n",
              "    </tr>\n",
              "    <tr>\n",
              "      <th>47634</th>\n",
              "      <td>USD</td>\n",
              "      <td>1</td>\n",
              "    </tr>\n",
              "    <tr>\n",
              "      <th>...</th>\n",
              "      <td>...</td>\n",
              "      <td>...</td>\n",
              "    </tr>\n",
              "    <tr>\n",
              "      <th>42769</th>\n",
              "      <td>USD</td>\n",
              "      <td>1</td>\n",
              "    </tr>\n",
              "    <tr>\n",
              "      <th>27225</th>\n",
              "      <td>USD</td>\n",
              "      <td>1</td>\n",
              "    </tr>\n",
              "    <tr>\n",
              "      <th>23778</th>\n",
              "      <td>USD</td>\n",
              "      <td>1</td>\n",
              "    </tr>\n",
              "    <tr>\n",
              "      <th>39727</th>\n",
              "      <td>USD</td>\n",
              "      <td>1</td>\n",
              "    </tr>\n",
              "    <tr>\n",
              "      <th>23754</th>\n",
              "      <td>USD</td>\n",
              "      <td>1</td>\n",
              "    </tr>\n",
              "  </tbody>\n",
              "</table>\n",
              "<p>27401 rows × 2 columns</p>\n",
              "</div>"
            ],
            "text/plain": [
              "      invoice_currency  Invoice_Currency\n",
              "4602               CAD                 0\n",
              "37952              USD                 1\n",
              "14849              USD                 1\n",
              "21725              USD                 1\n",
              "47634              USD                 1\n",
              "...                ...               ...\n",
              "42769              USD                 1\n",
              "27225              USD                 1\n",
              "23778              USD                 1\n",
              "39727              USD                 1\n",
              "23754              USD                 1\n",
              "\n",
              "[27401 rows x 2 columns]"
            ]
          },
          "metadata": {
            "tags": []
          },
          "execution_count": 45
        }
      ]
    },
    {
      "cell_type": "code",
      "metadata": {
        "id": "48GsftDdVNOr"
      },
      "source": [
        "X_val['Invoice_Currency'] = Currency_enc.transform(X_val['invoice_currency'])\n",
        "X_test['Invoice_Currency'] = Currency_enc.transform(X_test['invoice_currency'])"
      ],
      "execution_count": null,
      "outputs": []
    },
    {
      "cell_type": "code",
      "metadata": {
        "colab": {
          "base_uri": "https://localhost:8080/",
          "height": 419
        },
        "id": "Oqxz1ATKV2zF",
        "outputId": "e4910c08-3db0-4fae-f307-1b0188bfee9b"
      },
      "source": [
        "X_val"
      ],
      "execution_count": null,
      "outputs": [
        {
          "output_type": "execute_result",
          "data": {
            "text/html": [
              "<div>\n",
              "<style scoped>\n",
              "    .dataframe tbody tr th:only-of-type {\n",
              "        vertical-align: middle;\n",
              "    }\n",
              "\n",
              "    .dataframe tbody tr th {\n",
              "        vertical-align: top;\n",
              "    }\n",
              "\n",
              "    .dataframe thead th {\n",
              "        text-align: right;\n",
              "    }\n",
              "</style>\n",
              "<table border=\"1\" class=\"dataframe\">\n",
              "  <thead>\n",
              "    <tr style=\"text-align: right;\">\n",
              "      <th></th>\n",
              "      <th>cust_number</th>\n",
              "      <th>name_customer</th>\n",
              "      <th>clear_date</th>\n",
              "      <th>posting_date</th>\n",
              "      <th>document_create_date</th>\n",
              "      <th>due_in_date</th>\n",
              "      <th>invoice_currency</th>\n",
              "      <th>total_open_amount</th>\n",
              "      <th>invoice_id</th>\n",
              "      <th>Invoice_Currency</th>\n",
              "    </tr>\n",
              "  </thead>\n",
              "  <tbody>\n",
              "    <tr>\n",
              "      <th>785</th>\n",
              "      <td>200704858</td>\n",
              "      <td>WAKE llc</td>\n",
              "      <td>2019-09-25</td>\n",
              "      <td>2019-10-09</td>\n",
              "      <td>2019-09-09</td>\n",
              "      <td>2019-09-25</td>\n",
              "      <td>USD</td>\n",
              "      <td>11382.31</td>\n",
              "      <td>1.929850e+09</td>\n",
              "      <td>1</td>\n",
              "    </tr>\n",
              "    <tr>\n",
              "      <th>15696</th>\n",
              "      <td>200726979</td>\n",
              "      <td>BJ'S  trust</td>\n",
              "      <td>2019-09-26</td>\n",
              "      <td>2019-10-09</td>\n",
              "      <td>2019-09-08</td>\n",
              "      <td>2019-09-25</td>\n",
              "      <td>USD</td>\n",
              "      <td>98269.26</td>\n",
              "      <td>1.929848e+09</td>\n",
              "      <td>1</td>\n",
              "    </tr>\n",
              "    <tr>\n",
              "      <th>34951</th>\n",
              "      <td>200769623</td>\n",
              "      <td>WAL-MAR corporation</td>\n",
              "      <td>2019-09-20</td>\n",
              "      <td>2019-10-09</td>\n",
              "      <td>2019-09-10</td>\n",
              "      <td>2019-09-25</td>\n",
              "      <td>USD</td>\n",
              "      <td>37187.50</td>\n",
              "      <td>1.929856e+09</td>\n",
              "      <td>1</td>\n",
              "    </tr>\n",
              "    <tr>\n",
              "      <th>42919</th>\n",
              "      <td>200759878</td>\n",
              "      <td>SA corporation</td>\n",
              "      <td>2019-09-27</td>\n",
              "      <td>2019-10-09</td>\n",
              "      <td>2019-09-11</td>\n",
              "      <td>2019-09-25</td>\n",
              "      <td>USD</td>\n",
              "      <td>40561.53</td>\n",
              "      <td>1.929861e+09</td>\n",
              "      <td>1</td>\n",
              "    </tr>\n",
              "    <tr>\n",
              "      <th>26271</th>\n",
              "      <td>200769623</td>\n",
              "      <td>WAL-MAR corporation</td>\n",
              "      <td>2019-09-20</td>\n",
              "      <td>2019-10-09</td>\n",
              "      <td>2019-09-10</td>\n",
              "      <td>2019-09-25</td>\n",
              "      <td>USD</td>\n",
              "      <td>70509.90</td>\n",
              "      <td>1.929857e+09</td>\n",
              "      <td>1</td>\n",
              "    </tr>\n",
              "    <tr>\n",
              "      <th>...</th>\n",
              "      <td>...</td>\n",
              "      <td>...</td>\n",
              "      <td>...</td>\n",
              "      <td>...</td>\n",
              "      <td>...</td>\n",
              "      <td>...</td>\n",
              "      <td>...</td>\n",
              "      <td>...</td>\n",
              "      <td>...</td>\n",
              "      <td>...</td>\n",
              "    </tr>\n",
              "    <tr>\n",
              "      <th>46024</th>\n",
              "      <td>200704045</td>\n",
              "      <td>RA in</td>\n",
              "      <td>2019-09-27</td>\n",
              "      <td>2019-12-09</td>\n",
              "      <td>2019-09-13</td>\n",
              "      <td>2019-09-27</td>\n",
              "      <td>USD</td>\n",
              "      <td>45713.68</td>\n",
              "      <td>1.929872e+09</td>\n",
              "      <td>1</td>\n",
              "    </tr>\n",
              "    <tr>\n",
              "      <th>11912</th>\n",
              "      <td>200782669</td>\n",
              "      <td>SYGMA corp</td>\n",
              "      <td>2019-09-30</td>\n",
              "      <td>2019-12-09</td>\n",
              "      <td>2019-09-11</td>\n",
              "      <td>2019-09-27</td>\n",
              "      <td>USD</td>\n",
              "      <td>6754.96</td>\n",
              "      <td>1.929863e+09</td>\n",
              "      <td>1</td>\n",
              "    </tr>\n",
              "    <tr>\n",
              "      <th>14900</th>\n",
              "      <td>200794332</td>\n",
              "      <td>COST us</td>\n",
              "      <td>2019-09-26</td>\n",
              "      <td>2019-12-09</td>\n",
              "      <td>2019-09-11</td>\n",
              "      <td>2019-09-27</td>\n",
              "      <td>USD</td>\n",
              "      <td>15284.38</td>\n",
              "      <td>1.929866e+09</td>\n",
              "      <td>1</td>\n",
              "    </tr>\n",
              "    <tr>\n",
              "      <th>32516</th>\n",
              "      <td>200895843</td>\n",
              "      <td>US  systems</td>\n",
              "      <td>2019-04-10</td>\n",
              "      <td>2019-12-09</td>\n",
              "      <td>2019-09-12</td>\n",
              "      <td>2019-09-27</td>\n",
              "      <td>USD</td>\n",
              "      <td>14391.23</td>\n",
              "      <td>1.929868e+09</td>\n",
              "      <td>1</td>\n",
              "    </tr>\n",
              "    <tr>\n",
              "      <th>29490</th>\n",
              "      <td>200706844</td>\n",
              "      <td>WINC associates</td>\n",
              "      <td>2019-09-27</td>\n",
              "      <td>2019-12-09</td>\n",
              "      <td>2019-09-12</td>\n",
              "      <td>2019-09-27</td>\n",
              "      <td>USD</td>\n",
              "      <td>23729.56</td>\n",
              "      <td>1.929867e+09</td>\n",
              "      <td>1</td>\n",
              "    </tr>\n",
              "  </tbody>\n",
              "</table>\n",
              "<p>5872 rows × 10 columns</p>\n",
              "</div>"
            ],
            "text/plain": [
              "      cust_number        name_customer clear_date posting_date  \\\n",
              "785     200704858             WAKE llc 2019-09-25   2019-10-09   \n",
              "15696   200726979          BJ'S  trust 2019-09-26   2019-10-09   \n",
              "34951   200769623  WAL-MAR corporation 2019-09-20   2019-10-09   \n",
              "42919   200759878       SA corporation 2019-09-27   2019-10-09   \n",
              "26271   200769623  WAL-MAR corporation 2019-09-20   2019-10-09   \n",
              "...           ...                  ...        ...          ...   \n",
              "46024   200704045                RA in 2019-09-27   2019-12-09   \n",
              "11912   200782669           SYGMA corp 2019-09-30   2019-12-09   \n",
              "14900   200794332              COST us 2019-09-26   2019-12-09   \n",
              "32516   200895843          US  systems 2019-04-10   2019-12-09   \n",
              "29490   200706844      WINC associates 2019-09-27   2019-12-09   \n",
              "\n",
              "      document_create_date due_in_date invoice_currency  total_open_amount  \\\n",
              "785             2019-09-09  2019-09-25              USD           11382.31   \n",
              "15696           2019-09-08  2019-09-25              USD           98269.26   \n",
              "34951           2019-09-10  2019-09-25              USD           37187.50   \n",
              "42919           2019-09-11  2019-09-25              USD           40561.53   \n",
              "26271           2019-09-10  2019-09-25              USD           70509.90   \n",
              "...                    ...         ...              ...                ...   \n",
              "46024           2019-09-13  2019-09-27              USD           45713.68   \n",
              "11912           2019-09-11  2019-09-27              USD            6754.96   \n",
              "14900           2019-09-11  2019-09-27              USD           15284.38   \n",
              "32516           2019-09-12  2019-09-27              USD           14391.23   \n",
              "29490           2019-09-12  2019-09-27              USD           23729.56   \n",
              "\n",
              "         invoice_id  Invoice_Currency  \n",
              "785    1.929850e+09                 1  \n",
              "15696  1.929848e+09                 1  \n",
              "34951  1.929856e+09                 1  \n",
              "42919  1.929861e+09                 1  \n",
              "26271  1.929857e+09                 1  \n",
              "...             ...               ...  \n",
              "46024  1.929872e+09                 1  \n",
              "11912  1.929863e+09                 1  \n",
              "14900  1.929866e+09                 1  \n",
              "32516  1.929868e+09                 1  \n",
              "29490  1.929867e+09                 1  \n",
              "\n",
              "[5872 rows x 10 columns]"
            ]
          },
          "metadata": {
            "tags": []
          },
          "execution_count": 47
        }
      ]
    },
    {
      "cell_type": "code",
      "metadata": {
        "id": "Czs-7xngWT0W"
      },
      "source": [
        "X_train.drop(['invoice_currency'], axis = 1, inplace = True)\n",
        "X_val.drop(['invoice_currency'], axis = 1, inplace = True)\n",
        "X_test.drop(['invoice_currency'], axis = 1, inplace = True)"
      ],
      "execution_count": null,
      "outputs": []
    },
    {
      "cell_type": "code",
      "metadata": {
        "colab": {
          "base_uri": "https://localhost:8080/"
        },
        "id": "8Kx4lfnrXF6N",
        "outputId": "661e5a4a-cbf6-4a97-8bca-ef511966f809"
      },
      "source": [
        "X_train.info()"
      ],
      "execution_count": null,
      "outputs": [
        {
          "output_type": "stream",
          "text": [
            "<class 'pandas.core.frame.DataFrame'>\n",
            "Int64Index: 27401 entries, 4602 to 23754\n",
            "Data columns (total 9 columns):\n",
            " #   Column                Non-Null Count  Dtype         \n",
            "---  ------                --------------  -----         \n",
            " 0   cust_number           27401 non-null  object        \n",
            " 1   name_customer         27401 non-null  object        \n",
            " 2   clear_date            27401 non-null  datetime64[ns]\n",
            " 3   posting_date          27401 non-null  datetime64[ns]\n",
            " 4   document_create_date  27401 non-null  datetime64[ns]\n",
            " 5   due_in_date           27401 non-null  datetime64[ns]\n",
            " 6   total_open_amount     27401 non-null  float64       \n",
            " 7   invoice_id            27401 non-null  float64       \n",
            " 8   Invoice_Currency      27401 non-null  int64         \n",
            "dtypes: datetime64[ns](4), float64(2), int64(1), object(2)\n",
            "memory usage: 2.1+ MB\n"
          ],
          "name": "stdout"
        }
      ]
    },
    {
      "cell_type": "code",
      "metadata": {
        "colab": {
          "base_uri": "https://localhost:8080/"
        },
        "id": "CLDeGfXKY6bA",
        "outputId": "1bd2c664-e111-4532-fdeb-94fa65920d1c"
      },
      "source": [
        "X_val.info()\n",
        "X_test.info()"
      ],
      "execution_count": null,
      "outputs": [
        {
          "output_type": "stream",
          "text": [
            "<class 'pandas.core.frame.DataFrame'>\n",
            "Int64Index: 5872 entries, 785 to 29490\n",
            "Data columns (total 9 columns):\n",
            " #   Column                Non-Null Count  Dtype         \n",
            "---  ------                --------------  -----         \n",
            " 0   cust_number           5872 non-null   object        \n",
            " 1   name_customer         5872 non-null   object        \n",
            " 2   clear_date            5872 non-null   datetime64[ns]\n",
            " 3   posting_date          5872 non-null   datetime64[ns]\n",
            " 4   document_create_date  5872 non-null   datetime64[ns]\n",
            " 5   due_in_date           5872 non-null   datetime64[ns]\n",
            " 6   total_open_amount     5872 non-null   float64       \n",
            " 7   invoice_id            5872 non-null   float64       \n",
            " 8   Invoice_Currency      5872 non-null   int64         \n",
            "dtypes: datetime64[ns](4), float64(2), int64(1), object(2)\n",
            "memory usage: 458.8+ KB\n",
            "<class 'pandas.core.frame.DataFrame'>\n",
            "Int64Index: 5872 entries, 24971 to 39638\n",
            "Data columns (total 9 columns):\n",
            " #   Column                Non-Null Count  Dtype         \n",
            "---  ------                --------------  -----         \n",
            " 0   cust_number           5872 non-null   object        \n",
            " 1   name_customer         5872 non-null   object        \n",
            " 2   clear_date            5872 non-null   datetime64[ns]\n",
            " 3   posting_date          5872 non-null   datetime64[ns]\n",
            " 4   document_create_date  5872 non-null   datetime64[ns]\n",
            " 5   due_in_date           5872 non-null   datetime64[ns]\n",
            " 6   total_open_amount     5872 non-null   float64       \n",
            " 7   invoice_id            5872 non-null   float64       \n",
            " 8   Invoice_Currency      5872 non-null   int64         \n",
            "dtypes: datetime64[ns](4), float64(2), int64(1), object(2)\n",
            "memory usage: 458.8+ KB\n"
          ],
          "name": "stdout"
        }
      ]
    },
    {
      "cell_type": "code",
      "metadata": {
        "id": "rV0yuWBYZA8l"
      },
      "source": [
        "def drop_columns(col, traindf = X_train, valdf = X_val, testdf = X_test):\n",
        "  traindf.drop(col, axis = 1, inplace = True)\n",
        "  valdf.drop(col, axis = 1, inplace = True)\n",
        "  testdf.drop(col, axis = 1, inplace = True)\n",
        "  return traindf, valdf, testdf"
      ],
      "execution_count": null,
      "outputs": []
    },
    {
      "cell_type": "code",
      "metadata": {
        "id": "LP9T40wFaE_r"
      },
      "source": [
        "#X_train['Clear_Day_Of_The_Week'] = X_train['clear_date'].dt.weekday\n",
        "#X_val['Clear_Day_Of_The_Week'] = X_val['clear_date'].dt.weekday\n",
        "#X_test['Clear_Day_Of_The_Week'] = X_test['clear_date'].dt.weekday\n",
        "\n",
        "X_train['Clear_Day'] = X_train['clear_date'].dt.day\n",
        "X_val['Clear_Day'] = X_val['clear_date'].dt.day\n",
        "X_test['Clear_Day'] = X_test['clear_date'].dt.day\n",
        "\n",
        "X_train['Clear_Month'] = X_train['clear_date'].dt.month\n",
        "X_val['Clear_Month'] = X_val['clear_date'].dt.month\n",
        "X_test['Clear_Month'] = X_test['clear_date'].dt.month\n",
        "\n",
        "X_train['Clear_Year'] = X_train['clear_date'].dt.year\n",
        "X_val['Clear_Year'] = X_val['clear_date'].dt.year\n",
        "X_test['Clear_Year'] = X_test['clear_date'].dt.year"
      ],
      "execution_count": null,
      "outputs": []
    },
    {
      "cell_type": "code",
      "metadata": {
        "id": "Owka33k5cz0G"
      },
      "source": [
        "X_train, X_val, X_test = drop_columns(['clear_date'])"
      ],
      "execution_count": null,
      "outputs": []
    },
    {
      "cell_type": "code",
      "metadata": {
        "colab": {
          "base_uri": "https://localhost:8080/",
          "height": 419
        },
        "id": "JdKofY6xfF7I",
        "outputId": "13c7d539-8990-4e77-d3b7-f51ec2ab61a5"
      },
      "source": [
        "X_val"
      ],
      "execution_count": null,
      "outputs": [
        {
          "output_type": "execute_result",
          "data": {
            "text/html": [
              "<div>\n",
              "<style scoped>\n",
              "    .dataframe tbody tr th:only-of-type {\n",
              "        vertical-align: middle;\n",
              "    }\n",
              "\n",
              "    .dataframe tbody tr th {\n",
              "        vertical-align: top;\n",
              "    }\n",
              "\n",
              "    .dataframe thead th {\n",
              "        text-align: right;\n",
              "    }\n",
              "</style>\n",
              "<table border=\"1\" class=\"dataframe\">\n",
              "  <thead>\n",
              "    <tr style=\"text-align: right;\">\n",
              "      <th></th>\n",
              "      <th>cust_number</th>\n",
              "      <th>name_customer</th>\n",
              "      <th>posting_date</th>\n",
              "      <th>document_create_date</th>\n",
              "      <th>due_in_date</th>\n",
              "      <th>total_open_amount</th>\n",
              "      <th>invoice_id</th>\n",
              "      <th>Invoice_Currency</th>\n",
              "      <th>Clear_Day</th>\n",
              "      <th>Clear_Month</th>\n",
              "      <th>Clear_Year</th>\n",
              "    </tr>\n",
              "  </thead>\n",
              "  <tbody>\n",
              "    <tr>\n",
              "      <th>785</th>\n",
              "      <td>200704858</td>\n",
              "      <td>WAKE llc</td>\n",
              "      <td>2019-10-09</td>\n",
              "      <td>2019-09-09</td>\n",
              "      <td>2019-09-25</td>\n",
              "      <td>11382.31</td>\n",
              "      <td>1.929850e+09</td>\n",
              "      <td>1</td>\n",
              "      <td>25</td>\n",
              "      <td>9</td>\n",
              "      <td>2019</td>\n",
              "    </tr>\n",
              "    <tr>\n",
              "      <th>15696</th>\n",
              "      <td>200726979</td>\n",
              "      <td>BJ'S  trust</td>\n",
              "      <td>2019-10-09</td>\n",
              "      <td>2019-09-08</td>\n",
              "      <td>2019-09-25</td>\n",
              "      <td>98269.26</td>\n",
              "      <td>1.929848e+09</td>\n",
              "      <td>1</td>\n",
              "      <td>26</td>\n",
              "      <td>9</td>\n",
              "      <td>2019</td>\n",
              "    </tr>\n",
              "    <tr>\n",
              "      <th>34951</th>\n",
              "      <td>200769623</td>\n",
              "      <td>WAL-MAR corporation</td>\n",
              "      <td>2019-10-09</td>\n",
              "      <td>2019-09-10</td>\n",
              "      <td>2019-09-25</td>\n",
              "      <td>37187.50</td>\n",
              "      <td>1.929856e+09</td>\n",
              "      <td>1</td>\n",
              "      <td>20</td>\n",
              "      <td>9</td>\n",
              "      <td>2019</td>\n",
              "    </tr>\n",
              "    <tr>\n",
              "      <th>42919</th>\n",
              "      <td>200759878</td>\n",
              "      <td>SA corporation</td>\n",
              "      <td>2019-10-09</td>\n",
              "      <td>2019-09-11</td>\n",
              "      <td>2019-09-25</td>\n",
              "      <td>40561.53</td>\n",
              "      <td>1.929861e+09</td>\n",
              "      <td>1</td>\n",
              "      <td>27</td>\n",
              "      <td>9</td>\n",
              "      <td>2019</td>\n",
              "    </tr>\n",
              "    <tr>\n",
              "      <th>26271</th>\n",
              "      <td>200769623</td>\n",
              "      <td>WAL-MAR corporation</td>\n",
              "      <td>2019-10-09</td>\n",
              "      <td>2019-09-10</td>\n",
              "      <td>2019-09-25</td>\n",
              "      <td>70509.90</td>\n",
              "      <td>1.929857e+09</td>\n",
              "      <td>1</td>\n",
              "      <td>20</td>\n",
              "      <td>9</td>\n",
              "      <td>2019</td>\n",
              "    </tr>\n",
              "    <tr>\n",
              "      <th>...</th>\n",
              "      <td>...</td>\n",
              "      <td>...</td>\n",
              "      <td>...</td>\n",
              "      <td>...</td>\n",
              "      <td>...</td>\n",
              "      <td>...</td>\n",
              "      <td>...</td>\n",
              "      <td>...</td>\n",
              "      <td>...</td>\n",
              "      <td>...</td>\n",
              "      <td>...</td>\n",
              "    </tr>\n",
              "    <tr>\n",
              "      <th>46024</th>\n",
              "      <td>200704045</td>\n",
              "      <td>RA in</td>\n",
              "      <td>2019-12-09</td>\n",
              "      <td>2019-09-13</td>\n",
              "      <td>2019-09-27</td>\n",
              "      <td>45713.68</td>\n",
              "      <td>1.929872e+09</td>\n",
              "      <td>1</td>\n",
              "      <td>27</td>\n",
              "      <td>9</td>\n",
              "      <td>2019</td>\n",
              "    </tr>\n",
              "    <tr>\n",
              "      <th>11912</th>\n",
              "      <td>200782669</td>\n",
              "      <td>SYGMA corp</td>\n",
              "      <td>2019-12-09</td>\n",
              "      <td>2019-09-11</td>\n",
              "      <td>2019-09-27</td>\n",
              "      <td>6754.96</td>\n",
              "      <td>1.929863e+09</td>\n",
              "      <td>1</td>\n",
              "      <td>30</td>\n",
              "      <td>9</td>\n",
              "      <td>2019</td>\n",
              "    </tr>\n",
              "    <tr>\n",
              "      <th>14900</th>\n",
              "      <td>200794332</td>\n",
              "      <td>COST us</td>\n",
              "      <td>2019-12-09</td>\n",
              "      <td>2019-09-11</td>\n",
              "      <td>2019-09-27</td>\n",
              "      <td>15284.38</td>\n",
              "      <td>1.929866e+09</td>\n",
              "      <td>1</td>\n",
              "      <td>26</td>\n",
              "      <td>9</td>\n",
              "      <td>2019</td>\n",
              "    </tr>\n",
              "    <tr>\n",
              "      <th>32516</th>\n",
              "      <td>200895843</td>\n",
              "      <td>US  systems</td>\n",
              "      <td>2019-12-09</td>\n",
              "      <td>2019-09-12</td>\n",
              "      <td>2019-09-27</td>\n",
              "      <td>14391.23</td>\n",
              "      <td>1.929868e+09</td>\n",
              "      <td>1</td>\n",
              "      <td>10</td>\n",
              "      <td>4</td>\n",
              "      <td>2019</td>\n",
              "    </tr>\n",
              "    <tr>\n",
              "      <th>29490</th>\n",
              "      <td>200706844</td>\n",
              "      <td>WINC associates</td>\n",
              "      <td>2019-12-09</td>\n",
              "      <td>2019-09-12</td>\n",
              "      <td>2019-09-27</td>\n",
              "      <td>23729.56</td>\n",
              "      <td>1.929867e+09</td>\n",
              "      <td>1</td>\n",
              "      <td>27</td>\n",
              "      <td>9</td>\n",
              "      <td>2019</td>\n",
              "    </tr>\n",
              "  </tbody>\n",
              "</table>\n",
              "<p>5872 rows × 11 columns</p>\n",
              "</div>"
            ],
            "text/plain": [
              "      cust_number        name_customer posting_date document_create_date  \\\n",
              "785     200704858             WAKE llc   2019-10-09           2019-09-09   \n",
              "15696   200726979          BJ'S  trust   2019-10-09           2019-09-08   \n",
              "34951   200769623  WAL-MAR corporation   2019-10-09           2019-09-10   \n",
              "42919   200759878       SA corporation   2019-10-09           2019-09-11   \n",
              "26271   200769623  WAL-MAR corporation   2019-10-09           2019-09-10   \n",
              "...           ...                  ...          ...                  ...   \n",
              "46024   200704045                RA in   2019-12-09           2019-09-13   \n",
              "11912   200782669           SYGMA corp   2019-12-09           2019-09-11   \n",
              "14900   200794332              COST us   2019-12-09           2019-09-11   \n",
              "32516   200895843          US  systems   2019-12-09           2019-09-12   \n",
              "29490   200706844      WINC associates   2019-12-09           2019-09-12   \n",
              "\n",
              "      due_in_date  total_open_amount    invoice_id  Invoice_Currency  \\\n",
              "785    2019-09-25           11382.31  1.929850e+09                 1   \n",
              "15696  2019-09-25           98269.26  1.929848e+09                 1   \n",
              "34951  2019-09-25           37187.50  1.929856e+09                 1   \n",
              "42919  2019-09-25           40561.53  1.929861e+09                 1   \n",
              "26271  2019-09-25           70509.90  1.929857e+09                 1   \n",
              "...           ...                ...           ...               ...   \n",
              "46024  2019-09-27           45713.68  1.929872e+09                 1   \n",
              "11912  2019-09-27            6754.96  1.929863e+09                 1   \n",
              "14900  2019-09-27           15284.38  1.929866e+09                 1   \n",
              "32516  2019-09-27           14391.23  1.929868e+09                 1   \n",
              "29490  2019-09-27           23729.56  1.929867e+09                 1   \n",
              "\n",
              "       Clear_Day  Clear_Month  Clear_Year  \n",
              "785           25            9        2019  \n",
              "15696         26            9        2019  \n",
              "34951         20            9        2019  \n",
              "42919         27            9        2019  \n",
              "26271         20            9        2019  \n",
              "...          ...          ...         ...  \n",
              "46024         27            9        2019  \n",
              "11912         30            9        2019  \n",
              "14900         26            9        2019  \n",
              "32516         10            4        2019  \n",
              "29490         27            9        2019  \n",
              "\n",
              "[5872 rows x 11 columns]"
            ]
          },
          "metadata": {
            "tags": []
          },
          "execution_count": 55
        }
      ]
    },
    {
      "cell_type": "code",
      "metadata": {
        "colab": {
          "base_uri": "https://localhost:8080/"
        },
        "id": "F033Jo1QfRKH",
        "outputId": "c27f10ed-d104-4efc-865d-6e4be67d7667"
      },
      "source": [
        "X_train.info()"
      ],
      "execution_count": null,
      "outputs": [
        {
          "output_type": "stream",
          "text": [
            "<class 'pandas.core.frame.DataFrame'>\n",
            "Int64Index: 27401 entries, 4602 to 23754\n",
            "Data columns (total 11 columns):\n",
            " #   Column                Non-Null Count  Dtype         \n",
            "---  ------                --------------  -----         \n",
            " 0   cust_number           27401 non-null  object        \n",
            " 1   name_customer         27401 non-null  object        \n",
            " 2   posting_date          27401 non-null  datetime64[ns]\n",
            " 3   document_create_date  27401 non-null  datetime64[ns]\n",
            " 4   due_in_date           27401 non-null  datetime64[ns]\n",
            " 5   total_open_amount     27401 non-null  float64       \n",
            " 6   invoice_id            27401 non-null  float64       \n",
            " 7   Invoice_Currency      27401 non-null  int64         \n",
            " 8   Clear_Day             27401 non-null  int64         \n",
            " 9   Clear_Month           27401 non-null  int64         \n",
            " 10  Clear_Year            27401 non-null  int64         \n",
            "dtypes: datetime64[ns](3), float64(2), int64(4), object(2)\n",
            "memory usage: 2.5+ MB\n"
          ],
          "name": "stdout"
        }
      ]
    },
    {
      "cell_type": "code",
      "metadata": {
        "id": "_d8EtU55felw"
      },
      "source": [
        "X_train['Posting_Day'] = X_train['posting_date'].dt.day\n",
        "X_val['Posting_Day'] = X_val['posting_date'].dt.day\n",
        "X_test['Posting_Day'] = X_test['posting_date'].dt.day\n",
        "\n",
        "X_train['Posting_Month'] = X_train['posting_date'].dt.month\n",
        "X_val['Posting_Month'] = X_val['posting_date'].dt.month\n",
        "X_test['Posting_Month'] = X_test['posting_date'].dt.month\n",
        "\n",
        "X_train['Posting_Year'] = X_train['posting_date'].dt.year\n",
        "X_val['Posting_Year'] = X_val['posting_date'].dt.year\n",
        "X_test['Posting_Year'] = X_test['posting_date'].dt.year"
      ],
      "execution_count": null,
      "outputs": []
    },
    {
      "cell_type": "code",
      "metadata": {
        "id": "tq0_I-CZj2Xv"
      },
      "source": [
        "X_train, X_val, X_test = drop_columns(['posting_date'])"
      ],
      "execution_count": null,
      "outputs": []
    },
    {
      "cell_type": "code",
      "metadata": {
        "colab": {
          "base_uri": "https://localhost:8080/"
        },
        "id": "ZTr9eKtAkBGW",
        "outputId": "20921a97-cb25-4927-dd26-55ae49cdd74f"
      },
      "source": [
        "X_train.info()"
      ],
      "execution_count": null,
      "outputs": [
        {
          "output_type": "stream",
          "text": [
            "<class 'pandas.core.frame.DataFrame'>\n",
            "Int64Index: 27401 entries, 4602 to 23754\n",
            "Data columns (total 13 columns):\n",
            " #   Column                Non-Null Count  Dtype         \n",
            "---  ------                --------------  -----         \n",
            " 0   cust_number           27401 non-null  object        \n",
            " 1   name_customer         27401 non-null  object        \n",
            " 2   document_create_date  27401 non-null  datetime64[ns]\n",
            " 3   due_in_date           27401 non-null  datetime64[ns]\n",
            " 4   total_open_amount     27401 non-null  float64       \n",
            " 5   invoice_id            27401 non-null  float64       \n",
            " 6   Invoice_Currency      27401 non-null  int64         \n",
            " 7   Clear_Day             27401 non-null  int64         \n",
            " 8   Clear_Month           27401 non-null  int64         \n",
            " 9   Clear_Year            27401 non-null  int64         \n",
            " 10  Posting_Day           27401 non-null  int64         \n",
            " 11  Posting_Month         27401 non-null  int64         \n",
            " 12  Posting_Year          27401 non-null  int64         \n",
            "dtypes: datetime64[ns](2), float64(2), int64(7), object(2)\n",
            "memory usage: 2.9+ MB\n"
          ],
          "name": "stdout"
        }
      ]
    },
    {
      "cell_type": "code",
      "metadata": {
        "id": "xt6sD8V4kQiE"
      },
      "source": [
        "X_train['Document_Day'] = X_train['document_create_date'].dt.day\n",
        "X_val['Document_Day'] = X_val['document_create_date'].dt.day\n",
        "X_test['Document_Day'] = X_test['document_create_date'].dt.day\n",
        "\n",
        "X_train['Document_Month'] = X_train['document_create_date'].dt.month\n",
        "X_val['Document_Month'] = X_val['document_create_date'].dt.month\n",
        "X_test['Document_Month'] = X_test['document_create_date'].dt.month\n",
        "\n",
        "X_train['Document_Year'] = X_train['document_create_date'].dt.year\n",
        "X_val['Document_Year'] = X_val['document_create_date'].dt.year\n",
        "X_test['Document_Year'] = X_test['document_create_date'].dt.year"
      ],
      "execution_count": null,
      "outputs": []
    },
    {
      "cell_type": "code",
      "metadata": {
        "id": "7EjtZ9Fwko7U"
      },
      "source": [
        "X_train, X_val, X_test = drop_columns(['document_create_date'])"
      ],
      "execution_count": null,
      "outputs": []
    },
    {
      "cell_type": "code",
      "metadata": {
        "colab": {
          "base_uri": "https://localhost:8080/"
        },
        "id": "R1KjBaMWkw1Z",
        "outputId": "92a0379b-d0df-4dac-ffd4-f9a78c180ed7"
      },
      "source": [
        "X_train.info()"
      ],
      "execution_count": null,
      "outputs": [
        {
          "output_type": "stream",
          "text": [
            "<class 'pandas.core.frame.DataFrame'>\n",
            "Int64Index: 27401 entries, 4602 to 23754\n",
            "Data columns (total 15 columns):\n",
            " #   Column             Non-Null Count  Dtype         \n",
            "---  ------             --------------  -----         \n",
            " 0   cust_number        27401 non-null  object        \n",
            " 1   name_customer      27401 non-null  object        \n",
            " 2   due_in_date        27401 non-null  datetime64[ns]\n",
            " 3   total_open_amount  27401 non-null  float64       \n",
            " 4   invoice_id         27401 non-null  float64       \n",
            " 5   Invoice_Currency   27401 non-null  int64         \n",
            " 6   Clear_Day          27401 non-null  int64         \n",
            " 7   Clear_Month        27401 non-null  int64         \n",
            " 8   Clear_Year         27401 non-null  int64         \n",
            " 9   Posting_Day        27401 non-null  int64         \n",
            " 10  Posting_Month      27401 non-null  int64         \n",
            " 11  Posting_Year       27401 non-null  int64         \n",
            " 12  Document_Day       27401 non-null  int64         \n",
            " 13  Document_Month     27401 non-null  int64         \n",
            " 14  Document_Year      27401 non-null  int64         \n",
            "dtypes: datetime64[ns](1), float64(2), int64(10), object(2)\n",
            "memory usage: 3.3+ MB\n"
          ],
          "name": "stdout"
        }
      ]
    },
    {
      "cell_type": "code",
      "metadata": {
        "id": "IDZPT8R9k2hJ"
      },
      "source": [
        "X_train['due_in_Day'] = X_train['due_in_date'].dt.day\n",
        "X_val['due_in_Day'] = X_val['due_in_date'].dt.day\n",
        "X_test['due_in_Day'] = X_test['due_in_date'].dt.day\n",
        "\n",
        "X_train['due_in_Month'] = X_train['due_in_date'].dt.month\n",
        "X_val['due_in_Month'] = X_val['due_in_date'].dt.month\n",
        "X_test['due_in_Month'] = X_test['due_in_date'].dt.month\n",
        "\n",
        "X_train['due_in_Year'] = X_train['due_in_date'].dt.year\n",
        "X_val['due_in_Year'] = X_val['due_in_date'].dt.year\n",
        "X_test['due_in_Year'] = X_test['due_in_date'].dt.year"
      ],
      "execution_count": null,
      "outputs": []
    },
    {
      "cell_type": "code",
      "metadata": {
        "id": "nvRWtopSlNJX"
      },
      "source": [
        "X_train, X_val, X_test = drop_columns(['due_in_date'])"
      ],
      "execution_count": null,
      "outputs": []
    },
    {
      "cell_type": "code",
      "metadata": {
        "colab": {
          "base_uri": "https://localhost:8080/"
        },
        "id": "DX6epUDwlWm3",
        "outputId": "a16eab0d-7de4-42a6-bbc0-3426bdf2a48f"
      },
      "source": [
        "X_train.info()"
      ],
      "execution_count": null,
      "outputs": [
        {
          "output_type": "stream",
          "text": [
            "<class 'pandas.core.frame.DataFrame'>\n",
            "Int64Index: 27401 entries, 4602 to 23754\n",
            "Data columns (total 17 columns):\n",
            " #   Column             Non-Null Count  Dtype  \n",
            "---  ------             --------------  -----  \n",
            " 0   cust_number        27401 non-null  object \n",
            " 1   name_customer      27401 non-null  object \n",
            " 2   total_open_amount  27401 non-null  float64\n",
            " 3   invoice_id         27401 non-null  float64\n",
            " 4   Invoice_Currency   27401 non-null  int64  \n",
            " 5   Clear_Day          27401 non-null  int64  \n",
            " 6   Clear_Month        27401 non-null  int64  \n",
            " 7   Clear_Year         27401 non-null  int64  \n",
            " 8   Posting_Day        27401 non-null  int64  \n",
            " 9   Posting_Month      27401 non-null  int64  \n",
            " 10  Posting_Year       27401 non-null  int64  \n",
            " 11  Document_Day       27401 non-null  int64  \n",
            " 12  Document_Month     27401 non-null  int64  \n",
            " 13  Document_Year      27401 non-null  int64  \n",
            " 14  due_in_Day         27401 non-null  int64  \n",
            " 15  due_in_Month       27401 non-null  int64  \n",
            " 16  due_in_Year        27401 non-null  int64  \n",
            "dtypes: float64(2), int64(13), object(2)\n",
            "memory usage: 3.8+ MB\n"
          ],
          "name": "stdout"
        }
      ]
    },
    {
      "cell_type": "code",
      "metadata": {
        "colab": {
          "base_uri": "https://localhost:8080/"
        },
        "id": "4xOfBEtRlctF",
        "outputId": "1bfc8682-6980-420d-fd60-99861ab5e1ea"
      },
      "source": [
        "X_train['cust_number']"
      ],
      "execution_count": null,
      "outputs": [
        {
          "output_type": "execute_result",
          "data": {
            "text/plain": [
              "4602     140104440\n",
              "37952    200769623\n",
              "14849    200769623\n",
              "21725    200726979\n",
              "47634    200769623\n",
              "           ...    \n",
              "42769    200803720\n",
              "27225    200418007\n",
              "23778    200722444\n",
              "39727    200020431\n",
              "23754    200772670\n",
              "Name: cust_number, Length: 27401, dtype: object"
            ]
          },
          "metadata": {
            "tags": []
          },
          "execution_count": 66
        }
      ]
    }
  ]
}